{
 "cells": [
  {
   "cell_type": "code",
   "execution_count": 1,
   "metadata": {},
   "outputs": [],
   "source": [
    "import numpy as np\n",
    "import matplotlib.pyplot as plt\n",
    "import pandas as pd\n",
    "import warnings\n",
    "warnings.filterwarnings('ignore')"
   ]
  },
  {
   "cell_type": "code",
   "execution_count": null,
   "metadata": {},
   "outputs": [],
   "source": [
    "#rnn modeli için veri seti train ve test olarak manuel ikiye bölünür burada 2001-2018 verileri train ve 2019 verileri test olarak ayrıldı\n",
    "#ayrıca train versi modeli kurabilmek için kendi içerisinde her 20 gün train ve sonraki gün test olmak üzere ikiye bölünür"
   ]
  },
  {
   "cell_type": "code",
   "execution_count": 6,
   "metadata": {},
   "outputs": [
    {
     "data": {
      "text/html": [
       "<div>\n",
       "<style scoped>\n",
       "    .dataframe tbody tr th:only-of-type {\n",
       "        vertical-align: middle;\n",
       "    }\n",
       "\n",
       "    .dataframe tbody tr th {\n",
       "        vertical-align: top;\n",
       "    }\n",
       "\n",
       "    .dataframe thead th {\n",
       "        text-align: right;\n",
       "    }\n",
       "</style>\n",
       "<table border=\"1\" class=\"dataframe\">\n",
       "  <thead>\n",
       "    <tr style=\"text-align: right;\">\n",
       "      <th></th>\n",
       "      <th>Date</th>\n",
       "      <th>Open</th>\n",
       "      <th>High</th>\n",
       "      <th>Low</th>\n",
       "      <th>Close</th>\n",
       "      <th>Adj Close</th>\n",
       "      <th>Volume</th>\n",
       "    </tr>\n",
       "  </thead>\n",
       "  <tbody>\n",
       "    <tr>\n",
       "      <th>0</th>\n",
       "      <td>24.12.2001</td>\n",
       "      <td>1.946.839.966</td>\n",
       "      <td>1.953.900.024</td>\n",
       "      <td>1.942.069.946</td>\n",
       "      <td>1944479980</td>\n",
       "      <td>1.944.479.980</td>\n",
       "      <td>564380000</td>\n",
       "    </tr>\n",
       "    <tr>\n",
       "      <th>1</th>\n",
       "      <td>26.12.2001</td>\n",
       "      <td>1.948.770.020</td>\n",
       "      <td>1.983.839.966</td>\n",
       "      <td>1.948.770.020</td>\n",
       "      <td>1960699951</td>\n",
       "      <td>1.960.699.951</td>\n",
       "      <td>1127350000</td>\n",
       "    </tr>\n",
       "    <tr>\n",
       "      <th>2</th>\n",
       "      <td>27.12.2001</td>\n",
       "      <td>1.967.319.946</td>\n",
       "      <td>1.982.729.980</td>\n",
       "      <td>1.962.119.995</td>\n",
       "      <td>1976420044</td>\n",
       "      <td>1.976.420.044</td>\n",
       "      <td>1241060000</td>\n",
       "    </tr>\n",
       "    <tr>\n",
       "      <th>3</th>\n",
       "      <td>28.12.2001</td>\n",
       "      <td>1.985.709.961</td>\n",
       "      <td>2.002.719.971</td>\n",
       "      <td>1.982.369.995</td>\n",
       "      <td>1987260010</td>\n",
       "      <td>1.987.260.010</td>\n",
       "      <td>1328290000</td>\n",
       "    </tr>\n",
       "    <tr>\n",
       "      <th>4</th>\n",
       "      <td>31.12.2001</td>\n",
       "      <td>1.984.310.059</td>\n",
       "      <td>1.989.170.044</td>\n",
       "      <td>1.950.400.024</td>\n",
       "      <td>1950400024</td>\n",
       "      <td>1.950.400.024</td>\n",
       "      <td>1414840000</td>\n",
       "    </tr>\n",
       "  </tbody>\n",
       "</table>\n",
       "</div>"
      ],
      "text/plain": [
       "         Date           Open           High            Low       Close  \\\n",
       "0  24.12.2001  1.946.839.966  1.953.900.024  1.942.069.946  1944479980   \n",
       "1  26.12.2001  1.948.770.020  1.983.839.966  1.948.770.020  1960699951   \n",
       "2  27.12.2001  1.967.319.946  1.982.729.980  1.962.119.995  1976420044   \n",
       "3  28.12.2001  1.985.709.961  2.002.719.971  1.982.369.995  1987260010   \n",
       "4  31.12.2001  1.984.310.059  1.989.170.044  1.950.400.024  1950400024   \n",
       "\n",
       "       Adj Close      Volume  \n",
       "0  1.944.479.980   564380000  \n",
       "1  1.960.699.951  1127350000  \n",
       "2  1.976.420.044  1241060000  \n",
       "3  1.987.260.010  1328290000  \n",
       "4  1.950.400.024  1414840000  "
      ]
     },
     "execution_count": 6,
     "metadata": {},
     "output_type": "execute_result"
    }
   ],
   "source": [
    "#veri setini oku\n",
    "df = pd.read_csv('train.csv',sep = ';') #,converters={\"Close\":float}\n",
    "df.head()"
   ]
  },
  {
   "cell_type": "code",
   "execution_count": 7,
   "metadata": {},
   "outputs": [],
   "source": [
    "#veri seti içerisinden kapanış verilerini al\n",
    "train = df.loc[:, [\"Close\"]].values"
   ]
  },
  {
   "cell_type": "code",
   "execution_count": 8,
   "metadata": {},
   "outputs": [
    {
     "data": {
      "text/plain": [
       "array([[0.11869924],\n",
       "       [0.12101784],\n",
       "       [0.12326499],\n",
       "       ...,\n",
       "       [0.78126192],\n",
       "       [0.78198092],\n",
       "       [0.78923689]])"
      ]
     },
     "execution_count": 8,
     "metadata": {},
     "output_type": "execute_result"
    }
   ],
   "source": [
    "# verileri 0-1 arasına sıkıştır\n",
    "train = train.astype(float)\n",
    "from sklearn.preprocessing import MinMaxScaler\n",
    "scaler = MinMaxScaler(feature_range = (0, 1))\n",
    "train_scaled = scaler.fit_transform(train)\n",
    "train_scaled"
   ]
  },
  {
   "cell_type": "code",
   "execution_count": 9,
   "metadata": {},
   "outputs": [
    {
     "data": {
      "image/png": "[encoded data removed]",
      "text/plain": [
       "<Figure size 432x288 with 1 Axes>"
      ]
     },
     "metadata": {
      "needs_background": "light"
     },
     "output_type": "display_data"
    },
    {
     "data": {
      "text/plain": [
       "4284"
      ]
     },
     "execution_count": 9,
     "metadata": {},
     "output_type": "execute_result"
    }
   ],
   "source": [
    "plt.plot(train_scaled)\n",
    "plt.show()\n",
    "train.size"
   ]
  },
  {
   "cell_type": "code",
   "execution_count": 10,
   "metadata": {},
   "outputs": [],
   "source": [
    "# Her 20 günlük veriden sonra 1 veriyi eğitim için ayır ve böyle bir döngüde devam et\n",
    "X_train = []\n",
    "y_train = []\n",
    "timesteps = 20\n",
    "for i in range(timesteps, 4284):\n",
    "    X_train.append(train_scaled[i-timesteps:i, 0])\n",
    "    y_train.append(train_scaled[i, 0])\n",
    "X_train, y_train = np.array(X_train), np.array(y_train)"
   ]
  },
  {
   "cell_type": "code",
   "execution_count": null,
   "metadata": {},
   "outputs": [],
   "source": [
    "# Reshaping\n",
    "X_train = np.reshape(X_train, (X_train.shape[0], X_train.shape[1], 1))\n",
    "X_train"
   ]
  },
  {
   "cell_type": "code",
   "execution_count": 12,
   "metadata": {},
   "outputs": [
    {
     "name": "stdout",
     "output_type": "stream",
     "text": [
      "4264\n",
      "85280\n"
     ]
    }
   ],
   "source": [
    "print(y_train.size)\n",
    "print(X_train.size)"
   ]
  },
  {
   "cell_type": "markdown",
   "metadata": {},
   "source": [
    "# recurrent neural network (rnn) model"
   ]
  },
  {
   "cell_type": "code",
   "execution_count": 13,
   "metadata": {},
   "outputs": [
    {
     "name": "stderr",
     "output_type": "stream",
     "text": [
      "Using TensorFlow backend.\n"
     ]
    },
    {
     "name": "stdout",
     "output_type": "stream",
     "text": [
      "WARNING:tensorflow:From C:\\Users\\mert5\\Anaconda3\\lib\\site-packages\\tensorflow\\python\\framework\\op_def_library.py:263: colocate_with (from tensorflow.python.framework.ops) is deprecated and will be removed in a future version.\n",
      "Instructions for updating:\n",
      "Colocations handled automatically by placer.\n",
      "WARNING:tensorflow:From C:\\Users\\mert5\\Anaconda3\\lib\\site-packages\\keras\\backend\\tensorflow_backend.py:3445: calling dropout (from tensorflow.python.ops.nn_ops) with keep_prob is deprecated and will be removed in a future version.\n",
      "Instructions for updating:\n",
      "Please use `rate` instead of `keep_prob`. Rate should be set to `rate = 1 - keep_prob`.\n",
      "WARNING:tensorflow:From C:\\Users\\mert5\\Anaconda3\\lib\\site-packages\\tensorflow\\python\\ops\\math_ops.py:3066: to_int32 (from tensorflow.python.ops.math_ops) is deprecated and will be removed in a future version.\n",
      "Instructions for updating:\n",
      "Use tf.cast instead.\n",
      "Epoch 1/30\n",
      "4264/4264 [==============================] - 18s 4ms/step - loss: 0.1883\n",
      "Epoch 2/30\n",
      "4264/4264 [==============================] - 17s 4ms/step - loss: 0.0493\n",
      "Epoch 3/30\n",
      "4264/4264 [==============================] - 17s 4ms/step - loss: 0.0233\n",
      "Epoch 4/30\n",
      "4264/4264 [==============================] - 15s 4ms/step - loss: 0.0156\n",
      "Epoch 5/30\n",
      "4264/4264 [==============================] - 13s 3ms/step - loss: 0.0115\n",
      "Epoch 6/30\n",
      "4264/4264 [==============================] - 14s 3ms/step - loss: 0.0086\n",
      "Epoch 7/30\n",
      "4264/4264 [==============================] - 12s 3ms/step - loss: 0.0074\n",
      "Epoch 8/30\n",
      "4264/4264 [==============================] - 14s 3ms/step - loss: 0.0057\n",
      "Epoch 9/30\n",
      "4264/4264 [==============================] - 17s 4ms/step - loss: 0.0050\n",
      "Epoch 10/30\n",
      "4264/4264 [==============================] - 17s 4ms/step - loss: 0.0045\n",
      "Epoch 11/30\n",
      "4264/4264 [==============================] - 17s 4ms/step - loss: 0.0038\n",
      "Epoch 12/30\n",
      "4264/4264 [==============================] - 17s 4ms/step - loss: 0.0035\n",
      "Epoch 13/30\n",
      "4264/4264 [==============================] - 16s 4ms/step - loss: 0.0032\n",
      "Epoch 14/30\n",
      "4264/4264 [==============================] - 12s 3ms/step - loss: 0.0027\n",
      "Epoch 15/30\n",
      "4264/4264 [==============================] - 13s 3ms/step - loss: 0.0030\n",
      "Epoch 16/30\n",
      "4264/4264 [==============================] - 15s 4ms/step - loss: 0.0025\n",
      "Epoch 17/30\n",
      "4264/4264 [==============================] - 17s 4ms/step - loss: 0.0026\n",
      "Epoch 18/30\n",
      "4264/4264 [==============================] - 17s 4ms/step - loss: 0.0024\n",
      "Epoch 19/30\n",
      "4264/4264 [==============================] - 13s 3ms/step - loss: 0.0022\n",
      "Epoch 20/30\n",
      "4264/4264 [==============================] - 13s 3ms/step - loss: 0.0022\n",
      "Epoch 21/30\n",
      "4264/4264 [==============================] - 12s 3ms/step - loss: 0.0019\n",
      "Epoch 22/30\n",
      "4264/4264 [==============================] - 17s 4ms/step - loss: 0.0021\n",
      "Epoch 23/30\n",
      "4264/4264 [==============================] - 17s 4ms/step - loss: 0.0021\n",
      "Epoch 24/30\n",
      "4264/4264 [==============================] - 17s 4ms/step - loss: 0.0020\n",
      "Epoch 25/30\n",
      "4264/4264 [==============================] - 17s 4ms/step - loss: 0.0018\n",
      "Epoch 26/30\n",
      "4264/4264 [==============================] - 13s 3ms/step - loss: 0.0017\n",
      "Epoch 27/30\n",
      "4264/4264 [==============================] - 13s 3ms/step - loss: 0.0017\n",
      "Epoch 28/30\n",
      "4264/4264 [==============================] - 15s 4ms/step - loss: 0.0017\n",
      "Epoch 29/30\n",
      "4264/4264 [==============================] - 17s 4ms/step - loss: 0.0017\n",
      "Epoch 30/30\n",
      "4264/4264 [==============================] - 17s 4ms/step - loss: 0.0017\n"
     ]
    },
    {
     "data": {
      "text/plain": [
       "<keras.callbacks.History at 0x1aad5dfb518>"
      ]
     },
     "execution_count": 13,
     "metadata": {},
     "output_type": "execute_result"
    }
   ],
   "source": [
    "from keras.models import Sequential\n",
    "from keras.layers import Dense\n",
    "from keras.layers import SimpleRNN\n",
    "from keras.layers import Dropout\n",
    "\n",
    "\n",
    "regressor = Sequential()\n",
    "\n",
    "\n",
    "regressor.add(SimpleRNN(units = 20,activation='tanh', return_sequences = True, input_shape = (X_train.shape[1], 1)))\n",
    "regressor.add(Dropout(0.2))\n",
    "\n",
    "\n",
    "regressor.add(SimpleRNN(units = 20,activation='tanh', return_sequences = True))\n",
    "regressor.add(Dropout(0.2))\n",
    "\n",
    "\n",
    "regressor.add(SimpleRNN(units =20,activation='tanh', return_sequences = True))\n",
    "regressor.add(Dropout(0.2))\n",
    "\n",
    "\n",
    "regressor.add(SimpleRNN(units = 20))\n",
    "regressor.add(Dropout(0.2))\n",
    "\n",
    "\n",
    "regressor.add(Dense(units = 1))\n",
    "\n",
    "\n",
    "regressor.compile(optimizer = 'adam', loss = 'mean_squared_error')\n",
    "\n",
    "\n",
    "regressor.fit(X_train, y_train, epochs = 30, batch_size = 20)"
   ]
  },
  {
   "cell_type": "code",
   "execution_count": 17,
   "metadata": {},
   "outputs": [
    {
     "data": {
      "text/html": [
       "<div>\n",
       "<style scoped>\n",
       "    .dataframe tbody tr th:only-of-type {\n",
       "        vertical-align: middle;\n",
       "    }\n",
       "\n",
       "    .dataframe tbody tr th {\n",
       "        vertical-align: top;\n",
       "    }\n",
       "\n",
       "    .dataframe thead th {\n",
       "        text-align: right;\n",
       "    }\n",
       "</style>\n",
       "<table border=\"1\" class=\"dataframe\">\n",
       "  <thead>\n",
       "    <tr style=\"text-align: right;\">\n",
       "      <th></th>\n",
       "      <th>Date</th>\n",
       "      <th>Open</th>\n",
       "      <th>High</th>\n",
       "      <th>Low</th>\n",
       "      <th>Close</th>\n",
       "      <th>Adj Close</th>\n",
       "      <th>Volume</th>\n",
       "    </tr>\n",
       "  </thead>\n",
       "  <tbody>\n",
       "    <tr>\n",
       "      <th>0</th>\n",
       "      <td>2.01.2019</td>\n",
       "      <td>6.506.910.156</td>\n",
       "      <td>6.693.709.961</td>\n",
       "      <td>6.506.879.883</td>\n",
       "      <td>6665939941</td>\n",
       "      <td>6.665.939.941</td>\n",
       "      <td>2261800000</td>\n",
       "    </tr>\n",
       "    <tr>\n",
       "      <th>1</th>\n",
       "      <td>3.01.2019</td>\n",
       "      <td>6.584.770.020</td>\n",
       "      <td>6.600.209.961</td>\n",
       "      <td>6.457.129.883</td>\n",
       "      <td>6463500000</td>\n",
       "      <td>6.463.500.000</td>\n",
       "      <td>2607290000</td>\n",
       "    </tr>\n",
       "    <tr>\n",
       "      <th>2</th>\n",
       "      <td>4.01.2019</td>\n",
       "      <td>6.567.140.137</td>\n",
       "      <td>6.760.689.941</td>\n",
       "      <td>6.554.240.234</td>\n",
       "      <td>6738859863</td>\n",
       "      <td>6.738.859.863</td>\n",
       "      <td>2579550000</td>\n",
       "    </tr>\n",
       "    <tr>\n",
       "      <th>3</th>\n",
       "      <td>7.01.2019</td>\n",
       "      <td>6.757.529.785</td>\n",
       "      <td>6.855.600.098</td>\n",
       "      <td>6.741.399.902</td>\n",
       "      <td>6823470215</td>\n",
       "      <td>6.823.470.215</td>\n",
       "      <td>2507550000</td>\n",
       "    </tr>\n",
       "    <tr>\n",
       "      <th>4</th>\n",
       "      <td>8.01.2019</td>\n",
       "      <td>6.893.439.941</td>\n",
       "      <td>6.909.580.078</td>\n",
       "      <td>6.795.859.863</td>\n",
       "      <td>6897000000</td>\n",
       "      <td>6.897.000.000</td>\n",
       "      <td>2380290000</td>\n",
       "    </tr>\n",
       "  </tbody>\n",
       "</table>\n",
       "</div>"
      ],
      "text/plain": [
       "        Date           Open           High            Low       Close  \\\n",
       "0  2.01.2019  6.506.910.156  6.693.709.961  6.506.879.883  6665939941   \n",
       "1  3.01.2019  6.584.770.020  6.600.209.961  6.457.129.883  6463500000   \n",
       "2  4.01.2019  6.567.140.137  6.760.689.941  6.554.240.234  6738859863   \n",
       "3  7.01.2019  6.757.529.785  6.855.600.098  6.741.399.902  6823470215   \n",
       "4  8.01.2019  6.893.439.941  6.909.580.078  6.795.859.863  6897000000   \n",
       "\n",
       "       Adj Close      Volume  \n",
       "0  6.665.939.941  2261800000  \n",
       "1  6.463.500.000  2607290000  \n",
       "2  6.738.859.863  2579550000  \n",
       "3  6.823.470.215  2507550000  \n",
       "4  6.897.000.000  2380290000  "
      ]
     },
     "execution_count": 17,
     "metadata": {},
     "output_type": "execute_result"
    }
   ],
   "source": [
    "# Getting the real stock price of 2017\n",
    "dataset_test = pd.read_csv('test.csv',sep = ';')\n",
    "dataset_test.head()"
   ]
  },
  {
   "cell_type": "code",
   "execution_count": 18,
   "metadata": {},
   "outputs": [],
   "source": [
    "real_stock_price = dataset_test.loc[:, [\"Close\"]].values"
   ]
  },
  {
   "cell_type": "code",
   "execution_count": 19,
   "metadata": {},
   "outputs": [
    {
     "data": {
      "text/plain": [
       "268"
      ]
     },
     "execution_count": 19,
     "metadata": {},
     "output_type": "execute_result"
    }
   ],
   "source": [
    "# gerçek stok fiyatı 2019 için\n",
    "dataset_total = pd.concat((df['Close'], dataset_test['Close']), axis = 0)\n",
    "inputs = dataset_total[len(dataset_total) - len(dataset_test) - timesteps:].values.reshape(-1,1)\n",
    "inputs = scaler.transform(inputs)  # min max scaler\n",
    "inputs.size"
   ]
  },
  {
   "cell_type": "code",
   "execution_count": 20,
   "metadata": {},
   "outputs": [
    {
     "data": {
      "image/png": "[encoded data removed]",
      "text/plain": [
       "<Figure size 432x288 with 1 Axes>"
      ]
     },
     "metadata": {
      "needs_background": "light"
     },
     "output_type": "display_data"
    }
   ],
   "source": [
    "X_test = []\n",
    "k=inputs.size\n",
    "for i in range(timesteps, k): \n",
    "    X_test.append(inputs[i-timesteps:i, 0])\n",
    "X_test = np.array(X_test)\n",
    "X_test = np.reshape(X_test, (X_test.shape[0], X_test.shape[1], 1))\n",
    "predicted_stock_price = regressor.predict(X_test)\n",
    "predicted_stock_price = scaler.inverse_transform(predicted_stock_price)\n",
    "\n",
    "# Visualising the results\n",
    "plt.plot(real_stock_price, color = 'red', label = 'Gerçek Fiyat')\n",
    "plt.plot(predicted_stock_price, color = 'blue', label = 'Modelin tahmin ettiği fiyat')\n",
    "plt.title(' Stok Fiyat Tahmini')\n",
    "plt.xlabel('Zaman')\n",
    "plt.ylabel(' Fiyat')\n",
    "plt.legend()\n",
    "plt.show()\n"
   ]
  },
  {
   "cell_type": "markdown",
   "metadata": {},
   "source": [
    "# LONG SHORT TERM MEMORY(LSTM) model"
   ]
  },
  {
   "cell_type": "code",
   "execution_count": 70,
   "metadata": {},
   "outputs": [],
   "source": [
    "import numpy\n",
    "import pandas as pd \n",
    "import matplotlib.pyplot as plt\n",
    "import math\n",
    "from keras.models import Sequential\n",
    "from keras.layers import Dense\n",
    "from keras.layers import LSTM\n",
    "from sklearn.preprocessing import MinMaxScaler\n",
    "from sklearn.metrics import mean_squared_error"
   ]
  },
  {
   "cell_type": "code",
   "execution_count": 83,
   "metadata": {},
   "outputs": [
    {
     "data": {
      "text/html": [
       "<div>\n",
       "<style scoped>\n",
       "    .dataframe tbody tr th:only-of-type {\n",
       "        vertical-align: middle;\n",
       "    }\n",
       "\n",
       "    .dataframe tbody tr th {\n",
       "        vertical-align: top;\n",
       "    }\n",
       "\n",
       "    .dataframe thead th {\n",
       "        text-align: right;\n",
       "    }\n",
       "</style>\n",
       "<table border=\"1\" class=\"dataframe\">\n",
       "  <thead>\n",
       "    <tr style=\"text-align: right;\">\n",
       "      <th></th>\n",
       "      <th>Date</th>\n",
       "      <th>Open</th>\n",
       "      <th>High</th>\n",
       "      <th>Low</th>\n",
       "      <th>Close</th>\n",
       "      <th>Adj Close</th>\n",
       "      <th>Volume</th>\n",
       "    </tr>\n",
       "  </thead>\n",
       "  <tbody>\n",
       "    <tr>\n",
       "      <th>0</th>\n",
       "      <td>2001-12-24</td>\n",
       "      <td>1946839966</td>\n",
       "      <td>1953900024</td>\n",
       "      <td>1942069946</td>\n",
       "      <td>1944479980</td>\n",
       "      <td>1944479980</td>\n",
       "      <td>564380000</td>\n",
       "    </tr>\n",
       "    <tr>\n",
       "      <th>1</th>\n",
       "      <td>2001-12-26</td>\n",
       "      <td>1948770020</td>\n",
       "      <td>1983839966</td>\n",
       "      <td>1948770020</td>\n",
       "      <td>1960699951</td>\n",
       "      <td>1960699951</td>\n",
       "      <td>1127350000</td>\n",
       "    </tr>\n",
       "    <tr>\n",
       "      <th>2</th>\n",
       "      <td>2001-12-27</td>\n",
       "      <td>1967319946</td>\n",
       "      <td>1982729980</td>\n",
       "      <td>1962119995</td>\n",
       "      <td>1976420044</td>\n",
       "      <td>1976420044</td>\n",
       "      <td>1241060000</td>\n",
       "    </tr>\n",
       "    <tr>\n",
       "      <th>3</th>\n",
       "      <td>2001-12-28</td>\n",
       "      <td>1985709961</td>\n",
       "      <td>2002719971</td>\n",
       "      <td>1982369995</td>\n",
       "      <td>1987260010</td>\n",
       "      <td>1987260010</td>\n",
       "      <td>1328290000</td>\n",
       "    </tr>\n",
       "    <tr>\n",
       "      <th>4</th>\n",
       "      <td>2001-12-31</td>\n",
       "      <td>1984310059</td>\n",
       "      <td>1989170044</td>\n",
       "      <td>1950400024</td>\n",
       "      <td>1950400024</td>\n",
       "      <td>1950400024</td>\n",
       "      <td>1414840000</td>\n",
       "    </tr>\n",
       "  </tbody>\n",
       "</table>\n",
       "</div>"
      ],
      "text/plain": [
       "        Date        Open        High         Low       Close   Adj Close  \\\n",
       "0 2001-12-24  1946839966  1953900024  1942069946  1944479980  1944479980   \n",
       "1 2001-12-26  1948770020  1983839966  1948770020  1960699951  1960699951   \n",
       "2 2001-12-27  1967319946  1982729980  1962119995  1976420044  1976420044   \n",
       "3 2001-12-28  1985709961  2002719971  1982369995  1987260010  1987260010   \n",
       "4 2001-12-31  1984310059  1989170044  1950400024  1950400024  1950400024   \n",
       "\n",
       "       Volume  \n",
       "0   564380000  \n",
       "1  1127350000  \n",
       "2  1241060000  \n",
       "3  1328290000  \n",
       "4  1414840000  "
      ]
     },
     "execution_count": 83,
     "metadata": {},
     "output_type": "execute_result"
    }
   ],
   "source": [
    "data = pd.read_csv('train.csv',sep = ';')\n",
    "#data.head()\n",
    "data['Date'] = pd.to_datetime(data['Date'])\n",
    "data.head()"
   ]
  },
  {
   "cell_type": "code",
   "execution_count": 85,
   "metadata": {},
   "outputs": [
    {
     "data": {
      "image/png": "[encoded data removed]",
      "text/plain": [
       "<Figure size 432x288 with 1 Axes>"
      ]
     },
     "metadata": {
      "needs_background": "light"
     },
     "output_type": "display_data"
    }
   ],
   "source": [
    "dataset2 = data.iloc[:,4].values\n",
    "dataset = data.iloc[:,4].values\n",
    "dataset2 = dataset2.astype(\"float32\")\n",
    "plt.plot(dataset2)\n",
    "plt.xlabel(\"zaman\")\n",
    "plt.ylabel(\"fiyat\")\n",
    "plt.title(\"Stok Fiyat Grafiği\")\n",
    "plt.show()"
   ]
  },
  {
   "cell_type": "code",
   "execution_count": 68,
   "metadata": {},
   "outputs": [
    {
     "data": {
      "text/html": [
       "<div>\n",
       "<style scoped>\n",
       "    .dataframe tbody tr th:only-of-type {\n",
       "        vertical-align: middle;\n",
       "    }\n",
       "\n",
       "    .dataframe tbody tr th {\n",
       "        vertical-align: top;\n",
       "    }\n",
       "\n",
       "    .dataframe thead th {\n",
       "        text-align: right;\n",
       "    }\n",
       "</style>\n",
       "<table border=\"1\" class=\"dataframe\">\n",
       "  <thead>\n",
       "    <tr style=\"text-align: right;\">\n",
       "      <th></th>\n",
       "      <th>0</th>\n",
       "    </tr>\n",
       "  </thead>\n",
       "  <tbody>\n",
       "    <tr>\n",
       "      <th>0</th>\n",
       "      <td>1944479980</td>\n",
       "    </tr>\n",
       "    <tr>\n",
       "      <th>1</th>\n",
       "      <td>1960699951</td>\n",
       "    </tr>\n",
       "    <tr>\n",
       "      <th>2</th>\n",
       "      <td>1976420044</td>\n",
       "    </tr>\n",
       "    <tr>\n",
       "      <th>3</th>\n",
       "      <td>1987260010</td>\n",
       "    </tr>\n",
       "    <tr>\n",
       "      <th>4</th>\n",
       "      <td>1950400024</td>\n",
       "    </tr>\n",
       "  </tbody>\n",
       "</table>\n",
       "</div>"
      ],
      "text/plain": [
       "            0\n",
       "0  1944479980\n",
       "1  1960699951\n",
       "2  1976420044\n",
       "3  1987260010\n",
       "4  1950400024"
      ]
     },
     "execution_count": 68,
     "metadata": {},
     "output_type": "execute_result"
    }
   ],
   "source": [
    "dataset=pd.DataFrame(data=dataset)\n",
    "dataset.head()"
   ]
  },
  {
   "cell_type": "code",
   "execution_count": 86,
   "metadata": {},
   "outputs": [],
   "source": [
    "dataset = dataset.reshape(-1,1)\n",
    "dataset = dataset.astype(\"float32\")\n",
    "dataset.shape\n",
    "# scaling \n",
    "scaler = MinMaxScaler(feature_range=(0, 1))\n",
    "dataset = scaler.fit_transform(dataset)"
   ]
  },
  {
   "cell_type": "code",
   "execution_count": 87,
   "metadata": {},
   "outputs": [
    {
     "name": "stdout",
     "output_type": "stream",
     "text": [
      "train size: 2998, test size: 1286 \n",
      "(2998, 1)\n"
     ]
    }
   ],
   "source": [
    "train_size = int(len(dataset) * 0.70)\n",
    "test_size = len(dataset) - train_size\n",
    "train = dataset[0:train_size,:]\n",
    "test = dataset[train_size:len(dataset),:]\n",
    "print(\"train size: {}, test size: {} \".format(len(train), len(test)))\n",
    "print(train.shape)"
   ]
  },
  {
   "cell_type": "code",
   "execution_count": 88,
   "metadata": {},
   "outputs": [
    {
     "name": "stdout",
     "output_type": "stream",
     "text": [
      "(2982, 15)\n"
     ]
    }
   ],
   "source": [
    "time_stemp = 15\n",
    "dataX = []\n",
    "dataY = []\n",
    "for i in range(len(train)-time_stemp-1):\n",
    "    a = train[i:(i+time_stemp), 0]\n",
    "    dataX.append(a)\n",
    "    dataY.append(train[i + time_stemp, 0])\n",
    "trainX = numpy.array(dataX)\n",
    "trainY = numpy.array(dataY) \n",
    "print(trainX.shape)"
   ]
  },
  {
   "cell_type": "code",
   "execution_count": null,
   "metadata": {},
   "outputs": [],
   "source": []
  },
  {
   "cell_type": "code",
   "execution_count": 89,
   "metadata": {},
   "outputs": [],
   "source": [
    "dataX = []\n",
    "dataY = []\n",
    "for i in range(len(test)-time_stemp-1):\n",
    "    a = test[i:(i+time_stemp), 0]\n",
    "    dataX.append(a)\n",
    "    dataY.append(test[i + time_stemp, 0])\n",
    "testX = numpy.array(dataX)\n",
    "testY = numpy.array(dataY)"
   ]
  },
  {
   "cell_type": "code",
   "execution_count": 90,
   "metadata": {},
   "outputs": [],
   "source": [
    "trainX = numpy.reshape(trainX, (trainX.shape[0], 1, trainX.shape[1]))\n",
    "testX = numpy.reshape(testX, (testX.shape[0], 1, testX.shape[1]))"
   ]
  },
  {
   "cell_type": "code",
   "execution_count": 91,
   "metadata": {},
   "outputs": [
    {
     "name": "stdout",
     "output_type": "stream",
     "text": [
      "Epoch 1/15\n",
      "2982/2982 [==============================] - 21s 7ms/step - loss: 1.4548e-04\n",
      "Epoch 2/15\n",
      "2982/2982 [==============================] - 24s 8ms/step - loss: 5.8582e-05\n",
      "Epoch 3/15\n",
      "2982/2982 [==============================] - 24s 8ms/step - loss: 5.2547e-05\n",
      "Epoch 4/15\n",
      "2982/2982 [==============================] - 24s 8ms/step - loss: 4.5296e-05\n",
      "Epoch 5/15\n",
      "2982/2982 [==============================] - 23s 8ms/step - loss: 4.4247e-05\n",
      "Epoch 6/15\n",
      "2982/2982 [==============================] - 24s 8ms/step - loss: 4.0386e-05\n",
      "Epoch 7/15\n",
      "2982/2982 [==============================] - 23s 8ms/step - loss: 4.0351e-05\n",
      "Epoch 8/15\n",
      "2982/2982 [==============================] - 24s 8ms/step - loss: 3.8246e-05\n",
      "Epoch 9/15\n",
      "2982/2982 [==============================] - 24s 8ms/step - loss: 3.7467e-05\n",
      "Epoch 10/15\n",
      "2982/2982 [==============================] - 23s 8ms/step - loss: 3.5557e-05\n",
      "Epoch 11/15\n",
      "2982/2982 [==============================] - 24s 8ms/step - loss: 3.4550e-05\n",
      "Epoch 12/15\n",
      "2982/2982 [==============================] - 24s 8ms/step - loss: 3.6665e-05\n",
      "Epoch 13/15\n",
      "2982/2982 [==============================] - 22s 7ms/step - loss: 3.2417e-05\n",
      "Epoch 14/15\n",
      "2982/2982 [==============================] - 19s 6ms/step - loss: 3.2536e-05\n",
      "Epoch 15/15\n",
      "2982/2982 [==============================] - 24s 8ms/step - loss: 3.3609e-05\n"
     ]
    },
    {
     "data": {
      "text/plain": [
       "<keras.callbacks.History at 0x1ab7c4b1f98>"
      ]
     },
     "execution_count": 91,
     "metadata": {},
     "output_type": "execute_result"
    }
   ],
   "source": [
    "#model\n",
    "model = Sequential()\n",
    "model.add(LSTM(10, input_shape=(1, time_stemp))) # 10 lstm neuron(block)\n",
    "model.add(Dense(1))\n",
    "model.compile(loss='mean_squared_error', optimizer='adam')\n",
    "model.fit(trainX, trainY, epochs=15, batch_size=1)"
   ]
  },
  {
   "cell_type": "code",
   "execution_count": 92,
   "metadata": {},
   "outputs": [
    {
     "name": "stdout",
     "output_type": "stream",
     "text": [
      "Train Score: 32792113.83 RMSE\n",
      "Test Score: 302449298.95 RMSE\n"
     ]
    }
   ],
   "source": [
    "trainPredict = model.predict(trainX)\n",
    "testPredict = model.predict(testX)\n",
    "# invert predictions\n",
    "trainPredict = scaler.inverse_transform(trainPredict)\n",
    "trainY = scaler.inverse_transform([trainY])\n",
    "testPredict = scaler.inverse_transform(testPredict)\n",
    "testY = scaler.inverse_transform([testY])\n",
    "# calculate root mean squared error\n",
    "trainScore = math.sqrt(mean_squared_error(trainY[0], trainPredict[:,0]))\n",
    "print('Train Score: %.2f RMSE' % (trainScore))\n",
    "testScore = math.sqrt(mean_squared_error(testY[0], testPredict[:,0]))\n",
    "print('Test Score: %.2f RMSE' % (testScore))"
   ]
  },
  {
   "cell_type": "code",
   "execution_count": 93,
   "metadata": {},
   "outputs": [
    {
     "data": {
      "image/png": "[encoded data removed]",
      "text/plain": [
       "<Figure size 432x288 with 1 Axes>"
      ]
     },
     "metadata": {
      "needs_background": "light"
     },
     "output_type": "display_data"
    }
   ],
   "source": [
    "# shifting train\n",
    "trainPredictPlot = numpy.empty_like(dataset)\n",
    "trainPredictPlot[:, :] = numpy.nan\n",
    "trainPredictPlot[time_stemp:len(trainPredict)+time_stemp, :] = trainPredict\n",
    "# shifting test predictions for plotting\n",
    "testPredictPlot = numpy.empty_like(dataset)\n",
    "testPredictPlot[:, :] = numpy.nan\n",
    "testPredictPlot[len(trainPredict)+(time_stemp*2)+1:len(dataset)-1, :] = testPredict\n",
    "# plot baseline and predictions\n",
    "plt.plot(scaler.inverse_transform(dataset))\n",
    "plt.plot(trainPredictPlot,color=\"purple\")\n",
    "plt.plot(testPredictPlot,color=\"red\")\n",
    "plt.show()"
   ]
  }
 ],
 "metadata": {
  "kernelspec": {
   "display_name": "Python 3",
   "language": "python",
   "name": "python3"
  },
  "language_info": {
   "codemirror_mode": {
    "name": "ipython",
    "version": 3
   },
   "file_extension": ".py",
   "mimetype": "text/x-python",
   "name": "python",
   "nbconvert_exporter": "python",
   "pygments_lexer": "ipython3",
   "version": "3.7.0"
  }
 },
 "nbformat": 4,
 "nbformat_minor": 2
}
