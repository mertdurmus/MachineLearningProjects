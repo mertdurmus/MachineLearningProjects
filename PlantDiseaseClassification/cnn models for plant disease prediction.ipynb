{
 "cells": [
  {
   "cell_type": "code",
   "execution_count": 1,
   "metadata": {},
   "outputs": [
    {
     "name": "stderr",
     "output_type": "stream",
     "text": [
      "Using TensorFlow backend.\n"
     ]
    }
   ],
   "source": [
    "import numpy as np \n",
    "import pandas as pd \n",
    "import os, sys\n",
    "from IPython.display import display\n",
    "from IPython.display import Image as _Imgdis\n",
    "from PIL import Image\n",
    "import numpy as np\n",
    "from time import time\n",
    "from time import sleep\n",
    "from scipy import ndimage\n",
    "from keras.preprocessing.image import ImageDataGenerator, array_to_img, img_to_array, load_img\n",
    "import re\n",
    "import matplotlib.pyplot as plt\n",
    "import seaborn as sns\n",
    "from sklearn.model_selection import train_test_split\n",
    "from keras.utils import to_categorical\n",
    "from sklearn.metrics import confusion_matrix\n",
    "import itertools\n",
    "from keras.models import Sequential\n",
    "from keras.layers import Dense, Dropout, Flatten, Conv2D, MaxPool2D\n",
    "from keras.optimizers import RMSprop,Adam\n",
    "from keras.preprocessing.image import ImageDataGenerator\n",
    "from keras.callbacks import ReduceLROnPlateau\n",
    "from keras.utils.np_utils import to_categorical # convert to one-hot-encoding"
   ]
  },
  {
   "cell_type": "code",
   "execution_count": 2,
   "metadata": {},
   "outputs": [
    {
     "name": "stdout",
     "output_type": "stream",
     "text": [
      "Tomato___Bacterial_spot\n",
      "Tomato___Early_blight\n",
      "Tomato___healthy\n",
      "Tomato___Late_blight\n",
      "Tomato___Leaf_Mold\n",
      "Tomato___Septoria_leaf_spot\n",
      "Tomato___Spider_mites_Two-spotted_spider_mite\n",
      "Tomato___Target_Spot\n",
      "Tomato___Tomato_mosaic_virus\n",
      "Tomato___Tomato_Yellow_Leaf_Curl_Virus\n"
     ]
    }
   ],
   "source": [
    "os.listdir(path='.')\n",
    "listOfFile = os.listdir(\"./color\")\n",
    "x=len(listOfFile)\n",
    "for i in range(0,x):\n",
    "    print(listOfFile[i])"
   ]
  },
  {
   "cell_type": "code",
   "execution_count": 3,
   "metadata": {},
   "outputs": [
    {
     "name": "stdout",
     "output_type": "stream",
     "text": [
      "Working with 18160 images\n"
     ]
    }
   ],
   "source": [
    "onlyfiles=[]\n",
    "x=len(listOfFile)\n",
    "for i in range(0,x):\n",
    "    folder=\"./color/\"+listOfFile[i]\n",
    "    print\n",
    "    onlyfiles2 = [f for f in os.listdir(folder) if os.path.isfile(os.path.join(folder, f))]\n",
    "    for t in range(0, len(onlyfiles2)):\n",
    "        onlyfiles.append(folder+\"/\"+onlyfiles2[t])\n",
    "print(\"Working with {0} images\".format(len(onlyfiles)))"
   ]
  },
  {
   "cell_type": "code",
   "execution_count": 11,
   "metadata": {},
   "outputs": [
    {
     "name": "stdout",
     "output_type": "stream",
     "text": [
      "Files in train_files: 18160\n",
      "10000 images to array\n",
      "All images to array!\n"
     ]
    }
   ],
   "source": [
    "train_files = []\n",
    "y_train = []\n",
    "i=0\n",
    "for _file in onlyfiles:\n",
    "    train_files.append(_file)\n",
    "    r1 = re.search(r\".+/\", _file)\n",
    "    #label_in_file = _file.find(\"_\")\n",
    "    y_train.append(r1.group())\n",
    "    i=i+1\n",
    "    \n",
    "print(\"Files in train_files: %d\" % len(train_files))\n",
    "\n",
    "image_width = 256\n",
    "image_height = 256\n",
    "ratio = 4\n",
    "image_width = int(image_width / ratio)\n",
    "image_height = int(image_height / ratio)\n",
    "\n",
    "channels = 3\n",
    "nb_classes = 1\n",
    "\n",
    "dataset = np.ndarray(shape=(len(train_files), channels, image_height, image_width),\n",
    "                     dtype=np.float32)\n",
    "\n",
    "i = 0\n",
    "for _file in train_files:\n",
    "    img = load_img(_file) \n",
    "    img.thumbnail((image_width, image_height))\n",
    "    # Convert to Numpy Array\n",
    "    x = img_to_array(img)  \n",
    "    x = x.reshape((3, 64, 64))\n",
    "    # Normalize\n",
    "    #x = (x - 128.0) / 128.0\n",
    "    dataset[i] = x\n",
    "    i += 1\n",
    "    if i % 10000 == 0:\n",
    "        print(\"%d images to array\" % i)\n",
    "print(\"All images to array!\")\n",
    "#save('dataset.npy', dataset)"
   ]
  },
  {
   "cell_type": "code",
   "execution_count": 12,
   "metadata": {},
   "outputs": [
    {
     "name": "stdout",
     "output_type": "stream",
     "text": [
      "./color/Tomato___Bacterial_spot/\n"
     ]
    }
   ],
   "source": []
  },
  {
   "cell_type": "markdown",
   "metadata": {},
   "source": [
    "# splitting and normalization"
   ]
  },
  {
   "cell_type": "code",
   "execution_count": 14,
   "metadata": {},
   "outputs": [
    {
     "name": "stdout",
     "output_type": "stream",
     "text": [
      "x train:  (14528, 3, 64, 64)\n",
      "x test:  (3632, 3, 64, 64)\n"
     ]
    }
   ],
   "source": [
    "#Splitting \n",
    "X_train, X_test, y_train, y_test = train_test_split(dataset, y_train, test_size=0.2, random_state=33)\n",
    "print(\"x train: \",X_train.shape)\n",
    "print(\"x test: \",X_test.shape)"
   ]
  },
  {
   "cell_type": "code",
   "execution_count": 16,
   "metadata": {},
   "outputs": [
    {
     "name": "stdout",
     "output_type": "stream",
     "text": [
      "7\n"
     ]
    }
   ],
   "source": [
    "y_train=np.array(y_train)\n",
    "y_test=np.array(y_test)\n",
    "y_train = pd.Categorical(y_train).codes\n",
    "y_test = pd.Categorical(y_test).codes\n",
    "print(y_train[6])\n",
    "#print(y_train[5])"
   ]
  },
  {
   "cell_type": "code",
   "execution_count": 17,
   "metadata": {},
   "outputs": [
    {
     "name": "stdout",
     "output_type": "stream",
     "text": [
      "X_train shape:  (14528, 3, 64, 64)\n",
      "X_test shape:  (3632, 3, 64, 64)\n"
     ]
    }
   ],
   "source": [
    "# Normalize the data\n",
    "X_train = X_train / 255.0\n",
    "X_test = X_test / 255.0\n",
    "#cnn için gerekli one hot encoding\n",
    "#y_train=np.array(y_train)\n",
    "#y_test=np.array(y_test)\n",
    "y_train = to_categorical(y_train)\n",
    "y_test = to_categorical(y_test)\n",
    "#y_train = y_train / 255.0\n",
    "print(\"X_train shape: \",X_train.shape)\n",
    "print(\"X_test shape: \",X_test.shape)"
   ]
  },
  {
   "cell_type": "code",
   "execution_count": 18,
   "metadata": {},
   "outputs": [
    {
     "name": "stdout",
     "output_type": "stream",
     "text": [
      "x train:  (14528, 64, 64, 3)\n",
      "x test:  (3632, 64, 64, 3)\n"
     ]
    }
   ],
   "source": [
    "#reshape data to fit model\n",
    "x_train = X_train.reshape(14528,64,64,3)\n",
    "x_test = X_test.reshape(3632,64,64,3)\n",
    "print(\"x train: \",x_train.shape)\n",
    "print(\"x test: \",x_test.shape)"
   ]
  },
  {
   "cell_type": "code",
   "execution_count": 19,
   "metadata": {},
   "outputs": [
    {
     "name": "stdout",
     "output_type": "stream",
     "text": [
      "x train:  (14528, 64, 64, 3)\n",
      "x test:  (3632, 64, 64, 3)\n",
      "y train:  (14528, 10)\n",
      "y test:  (3632, 10)\n"
     ]
    }
   ],
   "source": [
    "print(\"x train: \",x_train.shape)\n",
    "print(\"x test: \",x_test.shape)\n",
    "print(\"y train: \",y_train.shape)\n",
    "print(\"y test: \",y_test.shape)"
   ]
  },
  {
   "cell_type": "markdown",
   "metadata": {},
   "source": [
    "# cnn model"
   ]
  },
  {
   "cell_type": "code",
   "execution_count": 20,
   "metadata": {},
   "outputs": [
    {
     "name": "stdout",
     "output_type": "stream",
     "text": [
      "WARNING:tensorflow:From C:\\Users\\mert5\\Anaconda3\\lib\\site-packages\\tensorflow\\python\\framework\\op_def_library.py:263: colocate_with (from tensorflow.python.framework.ops) is deprecated and will be removed in a future version.\n",
      "Instructions for updating:\n",
      "Colocations handled automatically by placer.\n",
      "WARNING:tensorflow:From C:\\Users\\mert5\\Anaconda3\\lib\\site-packages\\keras\\backend\\tensorflow_backend.py:3445: calling dropout (from tensorflow.python.ops.nn_ops) with keep_prob is deprecated and will be removed in a future version.\n",
      "Instructions for updating:\n",
      "Please use `rate` instead of `keep_prob`. Rate should be set to `rate = 1 - keep_prob`.\n"
     ]
    }
   ],
   "source": [
    "model = Sequential()\n",
    "\n",
    "model.add(Conv2D(filters = 8, kernel_size = (5,5),padding = 'Same', \n",
    "                 activation ='relu', input_shape = (64,64,3)))\n",
    "model.add(MaxPool2D(pool_size=(2,2)))\n",
    "model.add(Dropout(0.25))\n",
    "\n",
    "model.add(Conv2D(filters = 16, kernel_size = (3,3),padding = 'Same', \n",
    "                 activation ='relu'))\n",
    "model.add(MaxPool2D(pool_size=(2,2), strides=(2,2)))\n",
    "model.add(Dropout(0.25))\n",
    "model.add(Flatten())\n",
    "model.add(Dense(80, activation = \"relu\"))\n",
    "model.add(Dropout(0.5))\n",
    "model.add(Dense(10, activation = \"softmax\"))  #10 y'deki class sayısı"
   ]
  },
  {
   "cell_type": "code",
   "execution_count": 21,
   "metadata": {},
   "outputs": [],
   "source": [
    "optimizer = Adam(lr=0.001, beta_1=0.9, beta_2=0.999)"
   ]
  },
  {
   "cell_type": "code",
   "execution_count": 22,
   "metadata": {},
   "outputs": [],
   "source": [
    "model.compile(optimizer = optimizer , loss = \"categorical_crossentropy\", metrics=[\"accuracy\"])"
   ]
  },
  {
   "cell_type": "code",
   "execution_count": 23,
   "metadata": {},
   "outputs": [],
   "source": [
    "epochs = 25\n",
    "batch_size = 125"
   ]
  },
  {
   "cell_type": "code",
   "execution_count": 24,
   "metadata": {},
   "outputs": [],
   "source": [
    "datagen = ImageDataGenerator(\n",
    "        featurewise_center=False,  \n",
    "        samplewise_center=False, \n",
    "        featurewise_std_normalization=False,\n",
    "        samplewise_std_normalization=False,  \n",
    "        zca_whitening=False,  \n",
    "        rotation_range=0.5,  \n",
    "        zoom_range = 0.5,\n",
    "        width_shift_range=0.5, \n",
    "        height_shift_range=0.5,  \n",
    "        horizontal_flip=False,\n",
    "        vertical_flip=False)  \n",
    "\n",
    "datagen.fit(x_train)"
   ]
  },
  {
   "cell_type": "code",
   "execution_count": 25,
   "metadata": {},
   "outputs": [
    {
     "name": "stdout",
     "output_type": "stream",
     "text": [
      "WARNING:tensorflow:From C:\\Users\\mert5\\Anaconda3\\lib\\site-packages\\tensorflow\\python\\ops\\math_ops.py:3066: to_int32 (from tensorflow.python.ops.math_ops) is deprecated and will be removed in a future version.\n",
      "Instructions for updating:\n",
      "Use tf.cast instead.\n",
      "Epoch 1/25\n",
      "116/116 [==============================] - 27s 232ms/step - loss: 1.9790 - acc: 0.3046 - val_loss: 1.9351 - val_acc: 0.3150\n",
      "Epoch 2/25\n",
      "116/116 [==============================] - 23s 196ms/step - loss: 1.8331 - acc: 0.3642 - val_loss: 1.7067 - val_acc: 0.4436\n",
      "Epoch 3/25\n",
      "116/116 [==============================] - 22s 191ms/step - loss: 1.7100 - acc: 0.4188 - val_loss: 1.5354 - val_acc: 0.4681\n",
      "Epoch 4/25\n",
      "116/116 [==============================] - 21s 184ms/step - loss: 1.6008 - acc: 0.4551 - val_loss: 1.4297 - val_acc: 0.4915\n",
      "Epoch 5/25\n",
      "116/116 [==============================] - 21s 185ms/step - loss: 1.5028 - acc: 0.4947 - val_loss: 1.3518 - val_acc: 0.5284\n",
      "Epoch 6/25\n",
      "116/116 [==============================] - 22s 187ms/step - loss: 1.4469 - acc: 0.5044 - val_loss: 1.2077 - val_acc: 0.6005\n",
      "Epoch 7/25\n",
      "116/116 [==============================] - 21s 185ms/step - loss: 1.3908 - acc: 0.5285 - val_loss: 1.1930 - val_acc: 0.5834\n",
      "Epoch 8/25\n",
      "116/116 [==============================] - 22s 186ms/step - loss: 1.3371 - acc: 0.5412 - val_loss: 1.1275 - val_acc: 0.6046\n",
      "Epoch 9/25\n",
      "116/116 [==============================] - 22s 189ms/step - loss: 1.2951 - acc: 0.5508 - val_loss: 1.0749 - val_acc: 0.6272\n",
      "Epoch 10/25\n",
      "116/116 [==============================] - 22s 187ms/step - loss: 1.2850 - acc: 0.5560 - val_loss: 1.0966 - val_acc: 0.6134\n",
      "Epoch 11/25\n",
      "116/116 [==============================] - 21s 184ms/step - loss: 1.2524 - acc: 0.5655 - val_loss: 1.0282 - val_acc: 0.6330\n",
      "Epoch 12/25\n",
      "116/116 [==============================] - 22s 189ms/step - loss: 1.2189 - acc: 0.5759 - val_loss: 1.0503 - val_acc: 0.6247\n",
      "Epoch 13/25\n",
      "116/116 [==============================] - 22s 189ms/step - loss: 1.1781 - acc: 0.5887 - val_loss: 1.0246 - val_acc: 0.6374\n",
      "Epoch 14/25\n",
      "116/116 [==============================] - 22s 187ms/step - loss: 1.1803 - acc: 0.5859 - val_loss: 0.9224 - val_acc: 0.6715\n",
      "Epoch 15/25\n",
      "116/116 [==============================] - 22s 188ms/step - loss: 1.1358 - acc: 0.5974 - val_loss: 1.0197 - val_acc: 0.6203\n",
      "Epoch 16/25\n",
      "116/116 [==============================] - 22s 187ms/step - loss: 1.1256 - acc: 0.6013 - val_loss: 0.8914 - val_acc: 0.6831\n",
      "Epoch 17/25\n",
      "116/116 [==============================] - 22s 186ms/step - loss: 1.1102 - acc: 0.6069 - val_loss: 0.8878 - val_acc: 0.6878\n",
      "Epoch 18/25\n",
      "116/116 [==============================] - 22s 191ms/step - loss: 1.0839 - acc: 0.6217 - val_loss: 0.8941 - val_acc: 0.6806\n",
      "Epoch 19/25\n",
      "116/116 [==============================] - 22s 186ms/step - loss: 1.0779 - acc: 0.6183 - val_loss: 0.8648 - val_acc: 0.6941\n",
      "Epoch 20/25\n",
      "116/116 [==============================] - 22s 186ms/step - loss: 1.0604 - acc: 0.6245 - val_loss: 0.8392 - val_acc: 0.7015\n",
      "Epoch 21/25\n",
      "116/116 [==============================] - 22s 188ms/step - loss: 1.0593 - acc: 0.6284 - val_loss: 0.8582 - val_acc: 0.6977\n",
      "Epoch 22/25\n",
      "116/116 [==============================] - 22s 186ms/step - loss: 1.0479 - acc: 0.6319 - val_loss: 0.8274 - val_acc: 0.6974\n",
      "Epoch 23/25\n",
      "116/116 [==============================] - 22s 187ms/step - loss: 1.0227 - acc: 0.6368 - val_loss: 0.7871 - val_acc: 0.7156\n",
      "Epoch 24/25\n",
      "116/116 [==============================] - 22s 190ms/step - loss: 1.0076 - acc: 0.6392 - val_loss: 0.7529 - val_acc: 0.7285\n",
      "Epoch 25/25\n",
      "116/116 [==============================] - 22s 186ms/step - loss: 1.0003 - acc: 0.6437 - val_loss: 0.7322 - val_acc: 0.7417\n"
     ]
    }
   ],
   "source": [
    "history = model.fit_generator(datagen.flow(x_train,y_train, batch_size=batch_size),\n",
    "                              epochs = epochs, validation_data = (x_test,y_test), steps_per_epoch=x_train.shape[0] // batch_size)"
   ]
  },
  {
   "cell_type": "markdown",
   "metadata": {},
   "source": [
    "# plotting"
   ]
  },
  {
   "cell_type": "code",
   "execution_count": 26,
   "metadata": {},
   "outputs": [
    {
     "data": {
      "image/png": "[encoded data removed]",
      "text/plain": [
       "<Figure size 432x288 with 1 Axes>"
      ]
     },
     "metadata": {
      "needs_background": "light"
     },
     "output_type": "display_data"
    }
   ],
   "source": [
    "plt.plot(history.history['val_loss'], color='b', label=\"validation loss\")\n",
    "plt.title(\"Kayıp (yanlış tahmin) görseli\")\n",
    "plt.xlabel(\"Aşama sayısı\")\n",
    "plt.ylabel(\"Kayıp Oranı\")\n",
    "plt.legend()\n",
    "plt.show()"
   ]
  },
  {
   "cell_type": "code",
   "execution_count": 27,
   "metadata": {},
   "outputs": [
    {
     "data": {
      "image/png": "[encoded data removed]",
      "text/plain": [
       "<Figure size 576x576 with 2 Axes>"
      ]
     },
     "metadata": {
      "needs_background": "light"
     },
     "output_type": "display_data"
    }
   ],
   "source": [
    "Y_pred = model.predict(x_test)\n",
    "Y_pred_classes = np.argmax(Y_pred,axis = 1) \n",
    "Y_true = np.argmax(y_test,axis = 1) \n",
    "confusion_mtx = confusion_matrix(Y_true, Y_pred_classes) \n",
    "f,ax = plt.subplots(figsize=(8, 8))\n",
    "sns.heatmap(confusion_mtx, annot=True, linewidths=0.01,cmap=\"Greens\",linecolor=\"gray\", fmt= '.1f',ax=ax)\n",
    "plt.xlabel(\"Tahmin Edilen \")\n",
    "plt.ylabel(\"Gerçek Değer\")\n",
    "plt.title(\"Karmaşıklık Matrisi\")\n",
    "plt.show()"
   ]
  },
  {
   "cell_type": "markdown",
   "metadata": {},
   "source": [
    "# model2"
   ]
  },
  {
   "cell_type": "code",
   "execution_count": 28,
   "metadata": {},
   "outputs": [
    {
     "name": "stdout",
     "output_type": "stream",
     "text": [
      "Apple_Frogeye_Spot\n",
      "Apple___Apple_scab\n",
      "Apple___Cedar_apple_rust\n",
      "Apple___healthy\n"
     ]
    }
   ],
   "source": [
    "os.listdir(path='.')\n",
    "listOfFile = os.listdir(\"./color2\")\n",
    "x=len(listOfFile)\n",
    "for i in range(0,x):\n",
    "    print(listOfFile[i])"
   ]
  },
  {
   "cell_type": "code",
   "execution_count": 31,
   "metadata": {},
   "outputs": [
    {
     "name": "stdout",
     "output_type": "stream",
     "text": [
      "Working with 3171 images\n"
     ]
    }
   ],
   "source": [
    "onlyfiles=[]\n",
    "x=len(listOfFile)\n",
    "for i in range(0,x):\n",
    "    folder=\"./color2/\"+listOfFile[i]\n",
    "    print\n",
    "    onlyfiles2 = [f for f in os.listdir(folder) if os.path.isfile(os.path.join(folder, f))]\n",
    "    for t in range(0, len(onlyfiles2)):\n",
    "        onlyfiles.append(folder+\"/\"+onlyfiles2[t])\n",
    "print(\"Working with {0} images\".format(len(onlyfiles)))"
   ]
  },
  {
   "cell_type": "code",
   "execution_count": 32,
   "metadata": {},
   "outputs": [
    {
     "name": "stdout",
     "output_type": "stream",
     "text": [
      "Files in train_files: 3171\n",
      "1000 images to array\n",
      "2000 images to array\n",
      "3000 images to array\n",
      "All images to array!\n"
     ]
    }
   ],
   "source": [
    "train_files = []\n",
    "y_train = []\n",
    "i=0\n",
    "for _file in onlyfiles:\n",
    "    train_files.append(_file)\n",
    "    r1 = re.search(r\".+/\", _file)\n",
    "    #label_in_file = _file.find(\"_\")\n",
    "    y_train.append(r1.group())\n",
    "    i=i+1\n",
    "    \n",
    "print(\"Files in train_files: %d\" % len(train_files))\n",
    "\n",
    "image_width = 256\n",
    "image_height = 256\n",
    "ratio = 4\n",
    "image_width = int(image_width / ratio)\n",
    "image_height = int(image_height / ratio)\n",
    "\n",
    "channels = 3\n",
    "nb_classes = 1\n",
    "\n",
    "dataset = np.ndarray(shape=(len(train_files), channels, image_height, image_width),\n",
    "                     dtype=np.float32)\n",
    "\n",
    "i = 0\n",
    "for _file in train_files:\n",
    "    img = load_img(_file) \n",
    "    img.thumbnail((image_width, image_height))\n",
    "    # Convert to Numpy Array\n",
    "    x = img_to_array(img)  \n",
    "    x = x.reshape((3, 64, 64))\n",
    "    # Normalize\n",
    "    #x = (x - 128.0) / 128.0\n",
    "    dataset[i] = x\n",
    "    i += 1\n",
    "    if i % 1000 == 0:\n",
    "        print(\"%d images to array\" % i)\n",
    "print(\"All images to array!\")"
   ]
  },
  {
   "cell_type": "markdown",
   "metadata": {},
   "source": [
    "# model2 splitting and normalization"
   ]
  },
  {
   "cell_type": "code",
   "execution_count": 33,
   "metadata": {},
   "outputs": [
    {
     "name": "stdout",
     "output_type": "stream",
     "text": [
      "x train:  (2536, 3, 64, 64)\n",
      "x test:  (635, 3, 64, 64)\n"
     ]
    }
   ],
   "source": [
    "#Splitting \n",
    "X_train, X_test, y_train, y_test = train_test_split(dataset, y_train, test_size=0.2, random_state=33)\n",
    "print(\"x train: \",X_train.shape)\n",
    "print(\"x test: \",X_test.shape)"
   ]
  },
  {
   "cell_type": "code",
   "execution_count": 34,
   "metadata": {},
   "outputs": [
    {
     "name": "stdout",
     "output_type": "stream",
     "text": [
      "2\n"
     ]
    }
   ],
   "source": [
    "y_train=np.array(y_train)\n",
    "y_test=np.array(y_test)\n",
    "y_train = pd.Categorical(y_train).codes\n",
    "y_test = pd.Categorical(y_test).codes\n",
    "print(y_train[6])\n",
    "#print(y_train[5])"
   ]
  },
  {
   "cell_type": "code",
   "execution_count": 35,
   "metadata": {},
   "outputs": [
    {
     "name": "stdout",
     "output_type": "stream",
     "text": [
      "X_train shape:  (2536, 3, 64, 64)\n",
      "X_test shape:  (635, 3, 64, 64)\n"
     ]
    }
   ],
   "source": [
    "# Normalize the data\n",
    "X_train = X_train / 255.0\n",
    "X_test = X_test / 255.0\n",
    "#cnn için gerekli one hot encoding\n",
    "#y_train=np.array(y_train)\n",
    "#y_test=np.array(y_test)\n",
    "y_train = to_categorical(y_train)\n",
    "y_test = to_categorical(y_test)\n",
    "#y_train = y_train / 255.0\n",
    "print(\"X_train shape: \",X_train.shape)\n",
    "print(\"X_test shape: \",X_test.shape)"
   ]
  },
  {
   "cell_type": "code",
   "execution_count": 36,
   "metadata": {},
   "outputs": [
    {
     "name": "stdout",
     "output_type": "stream",
     "text": [
      "x train:  (2536, 64, 64, 3)\n",
      "x test:  (635, 64, 64, 3)\n"
     ]
    }
   ],
   "source": [
    "#reshape data to fit model\n",
    "x_train = X_train.reshape(2536,64,64,3)\n",
    "x_test = X_test.reshape(635,64,64,3)\n",
    "print(\"x train: \",x_train.shape)\n",
    "print(\"x test: \",x_test.shape)"
   ]
  },
  {
   "cell_type": "code",
   "execution_count": 37,
   "metadata": {},
   "outputs": [
    {
     "name": "stdout",
     "output_type": "stream",
     "text": [
      "x train:  (2536, 64, 64, 3)\n",
      "x test:  (635, 64, 64, 3)\n",
      "y train:  (2536, 4)\n",
      "y test:  (635, 4)\n"
     ]
    }
   ],
   "source": [
    "print(\"x train: \",x_train.shape)\n",
    "print(\"x test: \",x_test.shape)\n",
    "print(\"y train: \",y_train.shape)\n",
    "print(\"y test: \",y_test.shape)"
   ]
  },
  {
   "cell_type": "markdown",
   "metadata": {},
   "source": [
    "# cnn model 2(daha az örnek ile)"
   ]
  },
  {
   "cell_type": "code",
   "execution_count": 44,
   "metadata": {},
   "outputs": [],
   "source": [
    "model = Sequential()\n",
    "\n",
    "model.add(Conv2D(filters = 8, kernel_size = (5,5),padding = 'Same', \n",
    "                 activation ='relu', input_shape = (64,64,3)))\n",
    "model.add(MaxPool2D(pool_size=(2,2)))\n",
    "model.add(Dropout(0.25))\n",
    "\n",
    "model.add(Conv2D(filters = 16, kernel_size = (3,3),padding = 'Same', \n",
    "                 activation ='relu'))\n",
    "model.add(MaxPool2D(pool_size=(2,2), strides=(2,2)))\n",
    "model.add(Dropout(0.25))\n",
    "model.add(Flatten())\n",
    "model.add(Dense(80, activation = \"relu\"))\n",
    "model.add(Dropout(0.5))\n",
    "model.add(Dense(4, activation = \"softmax\"))  #4 y'deki class sayısı\n",
    "\n",
    "optimizer = Adam(lr=0.001, beta_1=0.9, beta_2=0.999)\n",
    "\n",
    "model.compile(optimizer = optimizer , loss = \"categorical_crossentropy\", metrics=[\"accuracy\"])\n",
    "\n",
    "epochs = 55\n",
    "batch_size = 250\n",
    "\n",
    "datagen = ImageDataGenerator(\n",
    "        featurewise_center=False,  \n",
    "        samplewise_center=False, \n",
    "        featurewise_std_normalization=False,\n",
    "        samplewise_std_normalization=False,  \n",
    "        zca_whitening=False,  \n",
    "        rotation_range=0.5,  \n",
    "        zoom_range = 0.5,\n",
    "        width_shift_range=0.5, \n",
    "        height_shift_range=0.5,  \n",
    "        horizontal_flip=False,\n",
    "        vertical_flip=False)  \n",
    "\n",
    "datagen.fit(x_train)"
   ]
  },
  {
   "cell_type": "code",
   "execution_count": 45,
   "metadata": {},
   "outputs": [
    {
     "name": "stdout",
     "output_type": "stream",
     "text": [
      "Epoch 1/55\n",
      "10/10 [==============================] - 4s 448ms/step - loss: 1.2612 - acc: 0.4812 - val_loss: 1.1963 - val_acc: 0.5150\n",
      "Epoch 2/55\n",
      "10/10 [==============================] - 3s 294ms/step - loss: 1.2001 - acc: 0.5201 - val_loss: 1.1782 - val_acc: 0.5150\n",
      "Epoch 3/55\n",
      "10/10 [==============================] - 3s 338ms/step - loss: 1.1640 - acc: 0.5246 - val_loss: 1.1491 - val_acc: 0.5150\n",
      "Epoch 4/55\n",
      "10/10 [==============================] - 3s 336ms/step - loss: 1.1516 - acc: 0.5125 - val_loss: 1.1083 - val_acc: 0.5150\n",
      "Epoch 5/55\n",
      "10/10 [==============================] - 3s 337ms/step - loss: 1.1236 - acc: 0.5025 - val_loss: 1.0578 - val_acc: 0.5134\n",
      "Epoch 6/55\n",
      "10/10 [==============================] - 3s 336ms/step - loss: 1.0514 - acc: 0.5259 - val_loss: 0.9994 - val_acc: 0.5827\n",
      "Epoch 7/55\n",
      "10/10 [==============================] - 3s 339ms/step - loss: 1.0217 - acc: 0.5269 - val_loss: 0.9542 - val_acc: 0.6031\n",
      "Epoch 8/55\n",
      "10/10 [==============================] - 3s 342ms/step - loss: 0.9902 - acc: 0.5317 - val_loss: 0.8443 - val_acc: 0.7165\n",
      "Epoch 9/55\n",
      "10/10 [==============================] - 3s 337ms/step - loss: 0.9221 - acc: 0.5943 - val_loss: 0.8944 - val_acc: 0.7197\n",
      "Epoch 10/55\n",
      "10/10 [==============================] - 4s 358ms/step - loss: 0.8851 - acc: 0.6224 - val_loss: 0.8415 - val_acc: 0.6173\n",
      "Epoch 11/55\n",
      "10/10 [==============================] - 4s 350ms/step - loss: 0.8288 - acc: 0.6275 - val_loss: 0.6740 - val_acc: 0.7638\n",
      "Epoch 12/55\n",
      "10/10 [==============================] - 4s 365ms/step - loss: 0.7768 - acc: 0.6504 - val_loss: 0.6918 - val_acc: 0.7890\n",
      "Epoch 13/55\n",
      "10/10 [==============================] - 3s 337ms/step - loss: 0.7576 - acc: 0.6787 - val_loss: 0.6029 - val_acc: 0.7732\n",
      "Epoch 14/55\n",
      "10/10 [==============================] - 3s 337ms/step - loss: 0.7660 - acc: 0.6773 - val_loss: 0.5944 - val_acc: 0.8220\n",
      "Epoch 15/55\n",
      "10/10 [==============================] - 3s 339ms/step - loss: 0.7767 - acc: 0.6773 - val_loss: 0.5871 - val_acc: 0.8189\n",
      "Epoch 16/55\n",
      "10/10 [==============================] - 3s 337ms/step - loss: 0.6994 - acc: 0.7004 - val_loss: 0.5612 - val_acc: 0.8189\n",
      "Epoch 17/55\n",
      "10/10 [==============================] - 3s 340ms/step - loss: 0.7020 - acc: 0.6949 - val_loss: 0.5322 - val_acc: 0.8126\n",
      "Epoch 18/55\n",
      "10/10 [==============================] - 3s 339ms/step - loss: 0.6599 - acc: 0.7323 - val_loss: 0.5204 - val_acc: 0.8268\n",
      "Epoch 19/55\n",
      "10/10 [==============================] - 3s 340ms/step - loss: 0.6834 - acc: 0.7149 - val_loss: 0.5133 - val_acc: 0.8394\n",
      "Epoch 20/55\n",
      "10/10 [==============================] - 3s 341ms/step - loss: 0.6398 - acc: 0.7403 - val_loss: 0.5142 - val_acc: 0.8142\n",
      "Epoch 21/55\n",
      "10/10 [==============================] - 3s 339ms/step - loss: 0.6446 - acc: 0.7367 - val_loss: 0.5425 - val_acc: 0.7543\n",
      "Epoch 22/55\n",
      "10/10 [==============================] - 3s 341ms/step - loss: 0.6065 - acc: 0.7452 - val_loss: 0.4924 - val_acc: 0.8079\n",
      "Epoch 23/55\n",
      "10/10 [==============================] - 4s 367ms/step - loss: 0.5928 - acc: 0.7684 - val_loss: 0.4613 - val_acc: 0.8205\n",
      "Epoch 24/55\n",
      "10/10 [==============================] - 3s 345ms/step - loss: 0.6142 - acc: 0.7493 - val_loss: 0.5224 - val_acc: 0.8362\n",
      "Epoch 25/55\n",
      "10/10 [==============================] - 3s 340ms/step - loss: 0.6029 - acc: 0.7700 - val_loss: 0.5020 - val_acc: 0.8142\n",
      "Epoch 26/55\n",
      "10/10 [==============================] - 3s 341ms/step - loss: 0.6583 - acc: 0.7373 - val_loss: 0.4631 - val_acc: 0.8614\n",
      "Epoch 27/55\n",
      "10/10 [==============================] - 3s 341ms/step - loss: 0.6555 - acc: 0.7395 - val_loss: 0.5236 - val_acc: 0.7685\n",
      "Epoch 28/55\n",
      "10/10 [==============================] - 3s 339ms/step - loss: 0.5958 - acc: 0.7598 - val_loss: 0.4080 - val_acc: 0.8630\n",
      "Epoch 29/55\n",
      "10/10 [==============================] - 4s 357ms/step - loss: 0.5840 - acc: 0.7600 - val_loss: 0.4950 - val_acc: 0.7874\n",
      "Epoch 30/55\n",
      "10/10 [==============================] - 3s 348ms/step - loss: 0.6096 - acc: 0.7596 - val_loss: 0.4349 - val_acc: 0.8551\n",
      "Epoch 31/55\n",
      "10/10 [==============================] - 3s 344ms/step - loss: 0.5474 - acc: 0.7893 - val_loss: 0.4367 - val_acc: 0.8299\n",
      "Epoch 32/55\n",
      "10/10 [==============================] - 3s 343ms/step - loss: 0.5475 - acc: 0.7736 - val_loss: 0.4890 - val_acc: 0.7764\n",
      "Epoch 33/55\n",
      "10/10 [==============================] - 3s 338ms/step - loss: 0.5386 - acc: 0.7969 - val_loss: 0.4920 - val_acc: 0.7732\n",
      "Epoch 34/55\n",
      "10/10 [==============================] - 4s 366ms/step - loss: 0.5605 - acc: 0.7828 - val_loss: 0.3724 - val_acc: 0.8614\n",
      "Epoch 35/55\n",
      "10/10 [==============================] - 3s 338ms/step - loss: 0.5109 - acc: 0.8086 - val_loss: 0.3450 - val_acc: 0.8819\n",
      "Epoch 36/55\n",
      "10/10 [==============================] - 3s 337ms/step - loss: 0.5582 - acc: 0.7759 - val_loss: 0.3828 - val_acc: 0.8535\n",
      "Epoch 37/55\n",
      "10/10 [==============================] - 3s 339ms/step - loss: 0.5194 - acc: 0.7911 - val_loss: 0.4266 - val_acc: 0.8220\n",
      "Epoch 38/55\n",
      "10/10 [==============================] - 3s 338ms/step - loss: 0.5004 - acc: 0.8110 - val_loss: 0.3573 - val_acc: 0.8803\n",
      "Epoch 39/55\n",
      "10/10 [==============================] - 3s 338ms/step - loss: 0.5013 - acc: 0.8141 - val_loss: 0.3871 - val_acc: 0.8472\n",
      "Epoch 40/55\n",
      "10/10 [==============================] - 3s 338ms/step - loss: 0.5077 - acc: 0.8115 - val_loss: 0.3333 - val_acc: 0.8803\n",
      "Epoch 41/55\n",
      "10/10 [==============================] - 3s 339ms/step - loss: 0.5124 - acc: 0.8066 - val_loss: 0.2996 - val_acc: 0.8961\n",
      "Epoch 42/55\n",
      "10/10 [==============================] - 3s 349ms/step - loss: 0.5594 - acc: 0.7751 - val_loss: 0.4151 - val_acc: 0.8583\n",
      "Epoch 43/55\n",
      "10/10 [==============================] - 3s 341ms/step - loss: 0.5601 - acc: 0.8038 - val_loss: 0.3691 - val_acc: 0.8331\n",
      "Epoch 44/55\n",
      "10/10 [==============================] - 3s 339ms/step - loss: 0.5256 - acc: 0.7951 - val_loss: 0.3559 - val_acc: 0.8661\n",
      "Epoch 45/55\n",
      "10/10 [==============================] - 4s 364ms/step - loss: 0.4817 - acc: 0.8188 - val_loss: 0.3536 - val_acc: 0.8661\n",
      "Epoch 46/55\n",
      "10/10 [==============================] - 3s 337ms/step - loss: 0.5178 - acc: 0.7993 - val_loss: 0.4434 - val_acc: 0.8110\n",
      "Epoch 47/55\n",
      "10/10 [==============================] - 3s 338ms/step - loss: 0.4848 - acc: 0.8149 - val_loss: 0.3961 - val_acc: 0.8283\n",
      "Epoch 48/55\n",
      "10/10 [==============================] - 4s 351ms/step - loss: 0.5162 - acc: 0.8151 - val_loss: 0.4253 - val_acc: 0.8094\n",
      "Epoch 49/55\n",
      "10/10 [==============================] - 3s 345ms/step - loss: 0.4443 - acc: 0.8305 - val_loss: 0.3391 - val_acc: 0.8724\n",
      "Epoch 50/55\n",
      "10/10 [==============================] - 3s 337ms/step - loss: 0.4724 - acc: 0.8235 - val_loss: 0.3220 - val_acc: 0.8709\n",
      "Epoch 51/55\n",
      "10/10 [==============================] - 3s 338ms/step - loss: 0.4716 - acc: 0.8305 - val_loss: 0.3651 - val_acc: 0.8567\n",
      "Epoch 52/55\n",
      "10/10 [==============================] - 3s 339ms/step - loss: 0.4907 - acc: 0.8080 - val_loss: 0.3407 - val_acc: 0.8819\n",
      "Epoch 53/55\n",
      "10/10 [==============================] - 3s 336ms/step - loss: 0.5064 - acc: 0.7981 - val_loss: 0.4305 - val_acc: 0.8157\n",
      "Epoch 54/55\n",
      "10/10 [==============================] - 3s 344ms/step - loss: 0.4959 - acc: 0.8334 - val_loss: 0.4710 - val_acc: 0.8047\n",
      "Epoch 55/55\n",
      "10/10 [==============================] - 3s 343ms/step - loss: 0.4594 - acc: 0.8245 - val_loss: 0.3044 - val_acc: 0.8866\n"
     ]
    }
   ],
   "source": [
    "history = model.fit_generator(datagen.flow(x_train,y_train, batch_size=batch_size),\n",
    "                              epochs = epochs, validation_data = (x_test,y_test), steps_per_epoch=x_train.shape[0] // batch_size)"
   ]
  },
  {
   "cell_type": "markdown",
   "metadata": {},
   "source": [
    "# plotting"
   ]
  },
  {
   "cell_type": "code",
   "execution_count": 46,
   "metadata": {},
   "outputs": [
    {
     "data": {
      "image/png": "[encoded data removed]",
      "text/plain": [
       "<Figure size 432x288 with 1 Axes>"
      ]
     },
     "metadata": {
      "needs_background": "light"
     },
     "output_type": "display_data"
    }
   ],
   "source": [
    "plt.plot(history.history['val_loss'], color='b', label=\"validation loss\")\n",
    "plt.title(\"Kayıp (yanlış tahmin) görseli\")\n",
    "plt.xlabel(\"Aşama sayısı\")\n",
    "plt.ylabel(\"Kayıp Oranı\")\n",
    "plt.legend()\n",
    "plt.show()"
   ]
  },
  {
   "cell_type": "code",
   "execution_count": 47,
   "metadata": {},
   "outputs": [
    {
     "data": {
      "image/png": "[encoded data removed]",
      "text/plain": [
       "<Figure size 576x576 with 2 Axes>"
      ]
     },
     "metadata": {
      "needs_background": "light"
     },
     "output_type": "display_data"
    }
   ],
   "source": [
    "Y_pred = model.predict(x_test)\n",
    "Y_pred_classes = np.argmax(Y_pred,axis = 1) \n",
    "Y_true = np.argmax(y_test,axis = 1) \n",
    "confusion_mtx = confusion_matrix(Y_true, Y_pred_classes) \n",
    "f,ax = plt.subplots(figsize=(8, 8))\n",
    "sns.heatmap(confusion_mtx, annot=True, linewidths=0.01,cmap=\"Greens\",linecolor=\"gray\", fmt= '.1f',ax=ax)\n",
    "plt.xlabel(\"Tahmin Edilen \")\n",
    "plt.ylabel(\"Gerçek Değer\")\n",
    "plt.title(\"Karmaşıklık Matrisi\")\n",
    "plt.show()"
   ]
  },
  {
   "cell_type": "code",
   "execution_count": null,
   "metadata": {},
   "outputs": [],
   "source": []
  }
 ],
 "metadata": {
  "kernelspec": {
   "display_name": "Python 3",
   "language": "python",
   "name": "python3"
  },
  "language_info": {
   "codemirror_mode": {
    "name": "ipython",
    "version": 3
   },
   "file_extension": ".py",
   "mimetype": "text/x-python",
   "name": "python",
   "nbconvert_exporter": "python",
   "pygments_lexer": "ipython3",
   "version": "3.7.0"
  }
 },
 "nbformat": 4,
 "nbformat_minor": 2
}
