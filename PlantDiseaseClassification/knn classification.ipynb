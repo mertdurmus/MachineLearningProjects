{
 "cells": [
  {
   "cell_type": "code",
   "execution_count": 1,
   "metadata": {},
   "outputs": [
    {
     "name": "stderr",
     "output_type": "stream",
     "text": [
      "Using TensorFlow backend.\n"
     ]
    }
   ],
   "source": [
    "import numpy as np # linear algebra\n",
    "import pandas as pd # data processing, CSV file I/O (e.g. pd.read_csv)\n",
    "import os, sys\n",
    "from IPython.display import display\n",
    "from IPython.display import Image as _Imgdis\n",
    "from PIL import Image\n",
    "import numpy as np\n",
    "from time import time\n",
    "from time import sleep\n",
    "from scipy import ndimage\n",
    "from keras.preprocessing.image import ImageDataGenerator, array_to_img, img_to_array, load_img\n",
    "import re\n",
    "from sklearn.model_selection import train_test_split\n",
    "from sklearn.neighbors import KNeighborsClassifier\n",
    "from sklearn import metrics"
   ]
  },
  {
   "cell_type": "code",
   "execution_count": 2,
   "metadata": {},
   "outputs": [
    {
     "name": "stdout",
     "output_type": "stream",
     "text": [
      "Tomato___Bacterial_spot\n",
      "Tomato___Early_blight\n",
      "Tomato___healthy\n",
      "Tomato___Late_blight\n",
      "Tomato___Leaf_Mold\n",
      "Tomato___Septoria_leaf_spot\n",
      "Tomato___Spider_mites_Two-spotted_spider_mite\n",
      "Tomato___Target_Spot\n",
      "Tomato___Tomato_mosaic_virus\n",
      "Tomato___Tomato_Yellow_Leaf_Curl_Virus\n"
     ]
    }
   ],
   "source": [
    "os.listdir(path='.')\n",
    "listOfFile = os.listdir(\"./color\")\n",
    "x=len(listOfFile)\n",
    "for i in range(0,x):\n",
    "    print(listOfFile[i])"
   ]
  },
  {
   "cell_type": "code",
   "execution_count": 3,
   "metadata": {},
   "outputs": [
    {
     "name": "stdout",
     "output_type": "stream",
     "text": [
      "Working with 18160 images\n",
      "Image examples: \n",
      "./color/Tomato___Bacterial_spot/05fc994d-7781-4dc5-a15c-b359f6c681a6___GCREC_Bact.Sp 6304.JPG\n"
     ]
    },
    {
     "data": {
      "image/jpeg": "[encoded data removed]",
      "text/plain": [
       "<IPython.core.display.Image object>"
      ]
     },
     "metadata": {
      "image/jpeg": {
       "height": 256,
       "width": 256
      }
     },
     "output_type": "display_data"
    }
   ],
   "source": [
    "onlyfiles=[]\n",
    "x=len(listOfFile)\n",
    "for i in range(0,x):\n",
    "    folder=\"./color/\"+listOfFile[i]\n",
    "    print\n",
    "    onlyfiles2 = [f for f in os.listdir(folder) if os.path.isfile(os.path.join(folder, f))]\n",
    "    for t in range(0, len(onlyfiles2)):\n",
    "        onlyfiles.append(folder+\"/\"+onlyfiles2[t])\n",
    "#onlyfiles = [f for f in os.listdir(folder) if os.path.isfile(os.path.join(folder, f))]\n",
    "print(\"Working with {0} images\".format(len(onlyfiles)))\n",
    "print(\"Image examples: \")\n",
    "for i in range(41, 42):\n",
    "    print(onlyfiles[i])\n",
    "    display(_Imgdis(filename=onlyfiles[i], width=256, height=256))"
   ]
  },
  {
   "cell_type": "code",
   "execution_count": 4,
   "metadata": {},
   "outputs": [
    {
     "name": "stdout",
     "output_type": "stream",
     "text": [
      "Files in train_files: 18160\n",
      "3000 images to array\n",
      "6000 images to array\n",
      "9000 images to array\n",
      "12000 images to array\n",
      "15000 images to array\n",
      "18000 images to array\n",
      "All images to array!\n"
     ]
    }
   ],
   "source": [
    "train_files = []\n",
    "y_train = []\n",
    "i=0\n",
    "for _file in onlyfiles:\n",
    "    train_files.append(_file)\n",
    "    r1 = re.search(r\".+/\", _file)\n",
    "    #label_in_file = _file.find(\"_\")\n",
    "    y_train.append(r1.group())\n",
    "    i=i+1\n",
    "    \n",
    "print(\"Files in train_files: %d\" % len(train_files))\n",
    "\n",
    "# Original Dimensions\n",
    "image_width = 256\n",
    "image_height = 256\n",
    "ratio = 4\n",
    "\n",
    "image_width = int(image_width / ratio)\n",
    "image_height = int(image_height / ratio)\n",
    "\n",
    "channels = 3\n",
    "nb_classes = 1\n",
    "\n",
    "dataset = np.ndarray(shape=(len(train_files), channels, image_height, image_width),\n",
    "                     dtype=np.float32)\n",
    "\n",
    "i = 0\n",
    "for _file in train_files:\n",
    "    img = load_img(_file)  # this is a PIL image   #listoffile yerinde folder vardı  listOfFile[i] + \"/\" +\n",
    "    img.thumbnail((image_width, image_height))\n",
    "    # Convert to Numpy Array\n",
    "    x = img_to_array(img)  \n",
    "    x = x.reshape((3, 64, 64))\n",
    "    # Normalize\n",
    "    #x = (x - 128.0) / 128.0\n",
    "    dataset[i] = x\n",
    "    i += 1\n",
    "    if i % 3000 == 0:\n",
    "        print(\"%d images to array\" % i)\n",
    "print(\"All images to array!\")"
   ]
  },
  {
   "cell_type": "markdown",
   "metadata": {},
   "source": [
    "# normalization and splitting"
   ]
  },
  {
   "cell_type": "code",
   "execution_count": 5,
   "metadata": {},
   "outputs": [
    {
     "name": "stdout",
     "output_type": "stream",
     "text": [
      "dataset shape:  (18160, 3, 64, 64)\n",
      "y_train shape:  (18160,)\n"
     ]
    }
   ],
   "source": [
    "# Normalize the data\n",
    "from keras.utils import to_categorical\n",
    "y_train = pd.Categorical(y_train).codes\n",
    "dataset = dataset / 255.0\n",
    "y_train = y_train / 255.0\n",
    "print(\"dataset shape: \",dataset.shape)\n",
    "print(\"y_train shape: \",y_train.shape)"
   ]
  },
  {
   "cell_type": "code",
   "execution_count": 9,
   "metadata": {},
   "outputs": [
    {
     "name": "stdout",
     "output_type": "stream",
     "text": [
      "x train:  (14528, 3, 64, 64)\n",
      "x test:  (3632, 3, 64, 64)\n",
      "y train:  (14528,)\n",
      "y test:  (3632,)\n"
     ]
    }
   ],
   "source": [
    "#Splitting \n",
    "X_train, X_test, y_train, y_test = train_test_split(dataset, y_train, test_size=0.2, random_state=33)\n",
    "print(\"x train: \",X_train.shape)\n",
    "print(\"x test: \",X_test.shape)\n",
    "print(\"y train: \",y_train.shape)\n",
    "print(\"y test: \",y_test.shape)"
   ]
  },
  {
   "cell_type": "code",
   "execution_count": 10,
   "metadata": {},
   "outputs": [
    {
     "name": "stdout",
     "output_type": "stream",
     "text": [
      "x train:  (14528, 64, 64, 3)\n",
      "x test:  (3632, 64, 64, 3)\n"
     ]
    }
   ],
   "source": [
    "#reshape data to fit model\n",
    "x_train = X_train.reshape(14528,64,64,3)\n",
    "x_test = X_test.reshape(3632,64,64,3)\n",
    "print(\"x train: \",x_train.shape)\n",
    "print(\"x test: \",x_test.shape)\n",
    "\n",
    "y_train = pd.Categorical(y_train).codes\n",
    "y_test = pd.Categorical(y_test).codes"
   ]
  },
  {
   "cell_type": "code",
   "execution_count": 11,
   "metadata": {},
   "outputs": [
    {
     "name": "stdout",
     "output_type": "stream",
     "text": [
      "14528 3632\n",
      "X train flatten (14528, 12288)\n",
      "X test flatten (3632, 12288)\n",
      "x train:  (12288, 14528)\n",
      "x test:  (12288, 3632)\n",
      "y train:  (14528,)\n",
      "y test:  (3632,)\n"
     ]
    }
   ],
   "source": [
    "number_of_train = x_train.shape[0]\n",
    "number_of_test = x_test.shape[0]\n",
    "print(number_of_train,number_of_test)\n",
    "\n",
    "x_train_flatten = x_train.reshape(number_of_train,x_train.shape[1]*x_train.shape[2]*x_train.shape[3])\n",
    "x_test_flatten = x_test .reshape(number_of_test,x_test.shape[1]*x_test.shape[2]*x_test.shape[3])\n",
    "print(\"X train flatten\",x_train_flatten.shape)\n",
    "print(\"X test flatten\",x_test_flatten.shape)\n",
    "\n",
    "x_train = x_train_flatten.T\n",
    "x_test = x_test_flatten.T\n",
    "y_test = y_test.T\n",
    "y_train = y_train.T\n",
    "print(\"x train: \",x_train.shape)\n",
    "print(\"x test: \",x_test.shape)\n",
    "print(\"y train: \",y_train.shape)\n",
    "print(\"y test: \",y_test.shape)"
   ]
  },
  {
   "cell_type": "code",
   "execution_count": 12,
   "metadata": {},
   "outputs": [],
   "source": [
    "x_train=x_train.T\n",
    "x_test=x_test.T"
   ]
  },
  {
   "cell_type": "code",
   "execution_count": 13,
   "metadata": {},
   "outputs": [
    {
     "name": "stdout",
     "output_type": "stream",
     "text": [
      "x train:  (14528, 12288)\n",
      "x test:  (3632, 12288)\n",
      "y train:  (14528,)\n",
      "y test:  (3632,)\n"
     ]
    }
   ],
   "source": [
    "print(\"x train: \",x_train.shape)\n",
    "print(\"x test: \",x_test.shape)\n",
    "print(\"y train: \",y_train.shape)\n",
    "print(\"y test: \",y_test.shape)"
   ]
  },
  {
   "cell_type": "markdown",
   "metadata": {},
   "source": [
    "# knn model and accuracy"
   ]
  },
  {
   "cell_type": "code",
   "execution_count": null,
   "metadata": {},
   "outputs": [],
   "source": [
    "model = KNeighborsClassifier(n_neighbors=3)\n",
    "# Train the model using the training sets\n",
    "model.fit(x_train,y_train)\n",
    "#Predict Output\n",
    "predicted= model.predict(x_test) \n",
    "print(metrics.accuracy_score(y_test, predicted))\n",
    "#print(predicted)"
   ]
  }
 ],
 "metadata": {
  "kernelspec": {
   "display_name": "Python 3",
   "language": "python",
   "name": "python3"
  },
  "language_info": {
   "codemirror_mode": {
    "name": "ipython",
    "version": 3
   },
   "file_extension": ".py",
   "mimetype": "text/x-python",
   "name": "python",
   "nbconvert_exporter": "python",
   "pygments_lexer": "ipython3",
   "version": "3.7.0"
  }
 },
 "nbformat": 4,
 "nbformat_minor": 2
}
