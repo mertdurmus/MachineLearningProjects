{
 "cells": [
  {
   "cell_type": "code",
   "execution_count": 1,
   "metadata": {},
   "outputs": [],
   "source": [
    "import numpy as np\n",
    "import matplotlib.pyplot as plt\n",
    "import pandas as pd\n",
    "import warnings\n",
    "warnings.filterwarnings('ignore')"
   ]
  },
  {
   "cell_type": "code",
   "execution_count": 2,
   "metadata": {},
   "outputs": [],
   "source": [
    "df = pd.read_csv('nd.csv',sep = ';') #,converters={\"Close\":float}"
   ]
  },
  {
   "cell_type": "code",
   "execution_count": 3,
   "metadata": {},
   "outputs": [
    {
     "data": {
      "text/html": [
       "<div>\n",
       "<style scoped>\n",
       "    .dataframe tbody tr th:only-of-type {\n",
       "        vertical-align: middle;\n",
       "    }\n",
       "\n",
       "    .dataframe tbody tr th {\n",
       "        vertical-align: top;\n",
       "    }\n",
       "\n",
       "    .dataframe thead th {\n",
       "        text-align: right;\n",
       "    }\n",
       "</style>\n",
       "<table border=\"1\" class=\"dataframe\">\n",
       "  <thead>\n",
       "    <tr style=\"text-align: right;\">\n",
       "      <th></th>\n",
       "      <th>Date</th>\n",
       "      <th>Open</th>\n",
       "      <th>High</th>\n",
       "      <th>Low</th>\n",
       "      <th>Close</th>\n",
       "      <th>Adj Close</th>\n",
       "      <th>Volume</th>\n",
       "    </tr>\n",
       "  </thead>\n",
       "  <tbody>\n",
       "    <tr>\n",
       "      <th>0</th>\n",
       "      <td>13.12.2011</td>\n",
       "      <td>24959999</td>\n",
       "      <td>25129999</td>\n",
       "      <td>24139999</td>\n",
       "      <td>24309999</td>\n",
       "      <td>21125864</td>\n",
       "      <td>1855800</td>\n",
       "    </tr>\n",
       "    <tr>\n",
       "      <th>1</th>\n",
       "      <td>14.12.2011</td>\n",
       "      <td>24180000</td>\n",
       "      <td>24360001</td>\n",
       "      <td>23920000</td>\n",
       "      <td>24059999</td>\n",
       "      <td>20908606</td>\n",
       "      <td>1597400</td>\n",
       "    </tr>\n",
       "    <tr>\n",
       "      <th>2</th>\n",
       "      <td>15.12.2011</td>\n",
       "      <td>24490000</td>\n",
       "      <td>24530001</td>\n",
       "      <td>24139999</td>\n",
       "      <td>24250000</td>\n",
       "      <td>21073723</td>\n",
       "      <td>1260500</td>\n",
       "    </tr>\n",
       "    <tr>\n",
       "      <th>3</th>\n",
       "      <td>16.12.2011</td>\n",
       "      <td>24430000</td>\n",
       "      <td>24520000</td>\n",
       "      <td>23980000</td>\n",
       "      <td>24030001</td>\n",
       "      <td>20882536</td>\n",
       "      <td>1900400</td>\n",
       "    </tr>\n",
       "    <tr>\n",
       "      <th>4</th>\n",
       "      <td>19.12.2011</td>\n",
       "      <td>24100000</td>\n",
       "      <td>24260000</td>\n",
       "      <td>23559999</td>\n",
       "      <td>23610001</td>\n",
       "      <td>20517548</td>\n",
       "      <td>1286800</td>\n",
       "    </tr>\n",
       "  </tbody>\n",
       "</table>\n",
       "</div>"
      ],
      "text/plain": [
       "         Date      Open      High       Low     Close  Adj Close   Volume\n",
       "0  13.12.2011  24959999  25129999  24139999  24309999   21125864  1855800\n",
       "1  14.12.2011  24180000  24360001  23920000  24059999   20908606  1597400\n",
       "2  15.12.2011  24490000  24530001  24139999  24250000   21073723  1260500\n",
       "3  16.12.2011  24430000  24520000  23980000  24030001   20882536  1900400\n",
       "4  19.12.2011  24100000  24260000  23559999  23610001   20517548  1286800"
      ]
     },
     "execution_count": 3,
     "metadata": {},
     "output_type": "execute_result"
    }
   ],
   "source": [
    "df.head()"
   ]
  },
  {
   "cell_type": "code",
   "execution_count": 4,
   "metadata": {},
   "outputs": [],
   "source": [
    "train = df.loc[:, [\"Close\"]].values"
   ]
  },
  {
   "cell_type": "code",
   "execution_count": 5,
   "metadata": {},
   "outputs": [],
   "source": [
    "train = train.astype(float)"
   ]
  },
  {
   "cell_type": "code",
   "execution_count": 6,
   "metadata": {},
   "outputs": [
    {
     "data": {
      "text/plain": [
       "array([[0.03697012],\n",
       "       [0.03395953],\n",
       "       [0.03624759],\n",
       "       ...,\n",
       "       [0.95640661],\n",
       "       [0.97892582],\n",
       "       [0.9779624 ]])"
      ]
     },
     "execution_count": 6,
     "metadata": {},
     "output_type": "execute_result"
    }
   ],
   "source": [
    "# Feature Scaling\n",
    "from sklearn.preprocessing import MinMaxScaler\n",
    "scaler = MinMaxScaler(feature_range = (0, 1))\n",
    "train_scaled = scaler.fit_transform(train)\n",
    "train_scaled"
   ]
  },
  {
   "cell_type": "code",
   "execution_count": 7,
   "metadata": {},
   "outputs": [
    {
     "data": {
      "image/png": "[encoded data removed]",
      "text/plain": [
       "<Figure size 432x288 with 1 Axes>"
      ]
     },
     "metadata": {
      "needs_background": "light"
     },
     "output_type": "display_data"
    }
   ],
   "source": [
    "plt.plot(train_scaled)\n",
    "plt.show()"
   ]
  },
  {
   "cell_type": "code",
   "execution_count": 8,
   "metadata": {},
   "outputs": [
    {
     "data": {
      "text/plain": [
       "1992"
      ]
     },
     "execution_count": 8,
     "metadata": {},
     "output_type": "execute_result"
    }
   ],
   "source": [
    "train.size"
   ]
  },
  {
   "cell_type": "code",
   "execution_count": 9,
   "metadata": {},
   "outputs": [],
   "source": [
    "# Creating a data structure with 50 timesteps and 1 output\n",
    "X_train = []\n",
    "y_train = []\n",
    "timesteps = 45\n",
    "for i in range(timesteps, 1992):\n",
    "    X_train.append(train_scaled[i-timesteps:i, 0])\n",
    "    y_train.append(train_scaled[i, 0])\n",
    "X_train, y_train = np.array(X_train), np.array(y_train)"
   ]
  },
  {
   "cell_type": "code",
   "execution_count": 10,
   "metadata": {},
   "outputs": [
    {
     "data": {
      "text/plain": [
       "array([[[0.03697012],\n",
       "        [0.03395953],\n",
       "        [0.03624759],\n",
       "        ...,\n",
       "        [0.06165705],\n",
       "        [0.05985066],\n",
       "        [0.06635357]],\n",
       "\n",
       "       [[0.03395953],\n",
       "        [0.03624759],\n",
       "        [0.03359828],\n",
       "        ...,\n",
       "        [0.05985066],\n",
       "        [0.06635357],\n",
       "        [0.0670761 ]],\n",
       "\n",
       "       [[0.03624759],\n",
       "        [0.03359828],\n",
       "        [0.02854047],\n",
       "        ...,\n",
       "        [0.06635357],\n",
       "        [0.0670761 ],\n",
       "        [0.06454721]],\n",
       "\n",
       "       ...,\n",
       "\n",
       "       [[0.99975919],\n",
       "        [0.98265892],\n",
       "        [0.92618019],\n",
       "        ...,\n",
       "        [0.92943159],\n",
       "        [0.94749517],\n",
       "        [0.95484104]],\n",
       "\n",
       "       [[0.98265892],\n",
       "        [0.92618019],\n",
       "        [0.92654144],\n",
       "        ...,\n",
       "        [0.94749517],\n",
       "        [0.95484104],\n",
       "        [0.95640661]],\n",
       "\n",
       "       [[0.92618019],\n",
       "        [0.92654144],\n",
       "        [0.9364162 ],\n",
       "        ...,\n",
       "        [0.95484104],\n",
       "        [0.95640661],\n",
       "        [0.97892582]]])"
      ]
     },
     "execution_count": 10,
     "metadata": {},
     "output_type": "execute_result"
    }
   ],
   "source": [
    "# Reshaping\n",
    "X_train = np.reshape(X_train, (X_train.shape[0], X_train.shape[1], 1))\n",
    "X_train"
   ]
  },
  {
   "cell_type": "code",
   "execution_count": 11,
   "metadata": {},
   "outputs": [
    {
     "name": "stdout",
     "output_type": "stream",
     "text": [
      "1947\n",
      "87615\n"
     ]
    }
   ],
   "source": [
    "print(y_train.size)\n",
    "print(X_train.size)"
   ]
  },
  {
   "cell_type": "markdown",
   "metadata": {},
   "source": [
    "# rnn model"
   ]
  },
  {
   "cell_type": "code",
   "execution_count": 12,
   "metadata": {},
   "outputs": [
    {
     "name": "stderr",
     "output_type": "stream",
     "text": [
      "Using TensorFlow backend.\n"
     ]
    },
    {
     "name": "stdout",
     "output_type": "stream",
     "text": [
      "WARNING:tensorflow:From C:\\Users\\mert5\\Anaconda3\\lib\\site-packages\\tensorflow\\python\\framework\\op_def_library.py:263: colocate_with (from tensorflow.python.framework.ops) is deprecated and will be removed in a future version.\n",
      "Instructions for updating:\n",
      "Colocations handled automatically by placer.\n",
      "WARNING:tensorflow:From C:\\Users\\mert5\\Anaconda3\\lib\\site-packages\\keras\\backend\\tensorflow_backend.py:3445: calling dropout (from tensorflow.python.ops.nn_ops) with keep_prob is deprecated and will be removed in a future version.\n",
      "Instructions for updating:\n",
      "Please use `rate` instead of `keep_prob`. Rate should be set to `rate = 1 - keep_prob`.\n",
      "WARNING:tensorflow:From C:\\Users\\mert5\\Anaconda3\\lib\\site-packages\\tensorflow\\python\\ops\\math_ops.py:3066: to_int32 (from tensorflow.python.ops.math_ops) is deprecated and will be removed in a future version.\n",
      "Instructions for updating:\n",
      "Use tf.cast instead.\n",
      "Epoch 1/30\n",
      "1947/1947 [==============================] - 15s 7ms/step - loss: 0.2394\n",
      "Epoch 2/30\n",
      "1947/1947 [==============================] - 11s 5ms/step - loss: 0.1332\n",
      "Epoch 3/30\n",
      "1947/1947 [==============================] - 11s 6ms/step - loss: 0.0746\n",
      "Epoch 4/30\n",
      "1947/1947 [==============================] - 10s 5ms/step - loss: 0.0538\n",
      "Epoch 5/30\n",
      "1947/1947 [==============================] - 10s 5ms/step - loss: 0.0391\n",
      "Epoch 6/30\n",
      "1947/1947 [==============================] - 11s 5ms/step - loss: 0.0328\n",
      "Epoch 7/30\n",
      "1947/1947 [==============================] - 11s 5ms/step - loss: 0.0253\n",
      "Epoch 8/30\n",
      "1947/1947 [==============================] - 11s 5ms/step - loss: 0.0205\n",
      "Epoch 9/30\n",
      "1947/1947 [==============================] - 11s 5ms/step - loss: 0.0181\n",
      "Epoch 10/30\n",
      "1947/1947 [==============================] - 12s 6ms/step - loss: 0.0156\n",
      "Epoch 11/30\n",
      "1947/1947 [==============================] - 11s 6ms/step - loss: 0.0137\n",
      "Epoch 12/30\n",
      "1947/1947 [==============================] - 10s 5ms/step - loss: 0.0116\n",
      "Epoch 13/30\n",
      "1947/1947 [==============================] - 10s 5ms/step - loss: 0.0104\n",
      "Epoch 14/30\n",
      "1947/1947 [==============================] - 10s 5ms/step - loss: 0.0096\n",
      "Epoch 15/30\n",
      "1947/1947 [==============================] - 10s 5ms/step - loss: 0.0082\n",
      "Epoch 16/30\n",
      "1947/1947 [==============================] - 10s 5ms/step - loss: 0.0080\n",
      "Epoch 17/30\n",
      "1947/1947 [==============================] - 10s 5ms/step - loss: 0.0073\n",
      "Epoch 18/30\n",
      "1947/1947 [==============================] - 10s 5ms/step - loss: 0.0066\n",
      "Epoch 19/30\n",
      "1947/1947 [==============================] - 10s 5ms/step - loss: 0.0057\n",
      "Epoch 20/30\n",
      "1947/1947 [==============================] - 11s 5ms/step - loss: 0.0060\n",
      "Epoch 21/30\n",
      "1947/1947 [==============================] - 10s 5ms/step - loss: 0.0050\n",
      "Epoch 22/30\n",
      "1947/1947 [==============================] - 11s 5ms/step - loss: 0.0049: 2s -\n",
      "Epoch 23/30\n",
      "1947/1947 [==============================] - 11s 5ms/step - loss: 0.0046\n",
      "Epoch 24/30\n",
      "1947/1947 [==============================] - 11s 5ms/step - loss: 0.0043\n",
      "Epoch 25/30\n",
      "1947/1947 [==============================] - 12s 6ms/step - loss: 0.0047\n",
      "Epoch 26/30\n",
      "1947/1947 [==============================] - 12s 6ms/step - loss: 0.0041\n",
      "Epoch 27/30\n",
      "1947/1947 [==============================] - 10s 5ms/step - loss: 0.0040\n",
      "Epoch 28/30\n",
      "1947/1947 [==============================] - 11s 5ms/step - loss: 0.0038\n",
      "Epoch 29/30\n",
      "1947/1947 [==============================] - 11s 5ms/step - loss: 0.0034\n",
      "Epoch 30/30\n",
      "1947/1947 [==============================] - 10s 5ms/step - loss: 0.0035\n"
     ]
    },
    {
     "data": {
      "text/plain": [
       "<keras.callbacks.History at 0x1e4bacd16a0>"
      ]
     },
     "execution_count": 12,
     "metadata": {},
     "output_type": "execute_result"
    }
   ],
   "source": [
    "# Importing the Keras libraries and packages\n",
    "from keras.models import Sequential\n",
    "from keras.layers import Dense\n",
    "from keras.layers import SimpleRNN\n",
    "from keras.layers import Dropout\n",
    "\n",
    "# Initialising the RNN\n",
    "regressor = Sequential()\n",
    "\n",
    "# Adding the first RNN layer and some Dropout regularisation\n",
    "regressor.add(SimpleRNN(units = 45,activation='tanh', return_sequences = True, input_shape = (X_train.shape[1], 1)))\n",
    "regressor.add(Dropout(0.2))\n",
    "\n",
    "# Adding a second RNN layer and some Dropout regularisation\n",
    "regressor.add(SimpleRNN(units = 45,activation='tanh', return_sequences = True))\n",
    "regressor.add(Dropout(0.2))\n",
    "\n",
    "# Adding a third RNN layer and some Dropout regularisation\n",
    "regressor.add(SimpleRNN(units = 45,activation='tanh', return_sequences = True))\n",
    "regressor.add(Dropout(0.2))\n",
    "\n",
    "# Adding a fourth RNN layer and some Dropout regularisation\n",
    "regressor.add(SimpleRNN(units = 45))\n",
    "regressor.add(Dropout(0.2))\n",
    "\n",
    "# Adding the output layer\n",
    "regressor.add(Dense(units = 1))\n",
    "\n",
    "# Compiling the RNN\n",
    "regressor.compile(optimizer = 'adam', loss = 'mean_squared_error')\n",
    "\n",
    "# Fitting the RNN to the Training set\n",
    "regressor.fit(X_train, y_train, epochs = 30, batch_size = 32)"
   ]
  },
  {
   "cell_type": "code",
   "execution_count": 16,
   "metadata": {},
   "outputs": [
    {
     "data": {
      "text/html": [
       "<div>\n",
       "<style scoped>\n",
       "    .dataframe tbody tr th:only-of-type {\n",
       "        vertical-align: middle;\n",
       "    }\n",
       "\n",
       "    .dataframe tbody tr th {\n",
       "        vertical-align: top;\n",
       "    }\n",
       "\n",
       "    .dataframe thead th {\n",
       "        text-align: right;\n",
       "    }\n",
       "</style>\n",
       "<table border=\"1\" class=\"dataframe\">\n",
       "  <thead>\n",
       "    <tr style=\"text-align: right;\">\n",
       "      <th></th>\n",
       "      <th>Date</th>\n",
       "      <th>Open</th>\n",
       "      <th>High</th>\n",
       "      <th>Low</th>\n",
       "      <th>Close</th>\n",
       "      <th>Adj Close</th>\n",
       "      <th>Volume</th>\n",
       "    </tr>\n",
       "  </thead>\n",
       "  <tbody>\n",
       "    <tr>\n",
       "      <th>0</th>\n",
       "      <td>13.11.2019</td>\n",
       "      <td>102050003</td>\n",
       "      <td>103750000</td>\n",
       "      <td>101239998</td>\n",
       "      <td>103269997</td>\n",
       "      <td>102802803</td>\n",
       "      <td>805700</td>\n",
       "    </tr>\n",
       "    <tr>\n",
       "      <th>1</th>\n",
       "      <td>14.11.2019</td>\n",
       "      <td>103269997</td>\n",
       "      <td>103309998</td>\n",
       "      <td>102389999</td>\n",
       "      <td>103260002</td>\n",
       "      <td>102792854</td>\n",
       "      <td>804600</td>\n",
       "    </tr>\n",
       "    <tr>\n",
       "      <th>2</th>\n",
       "      <td>15.11.2019</td>\n",
       "      <td>103110001</td>\n",
       "      <td>104150002</td>\n",
       "      <td>102830002</td>\n",
       "      <td>103589996</td>\n",
       "      <td>103121353</td>\n",
       "      <td>2597200</td>\n",
       "    </tr>\n",
       "    <tr>\n",
       "      <th>3</th>\n",
       "      <td>18.11.2019</td>\n",
       "      <td>103779999</td>\n",
       "      <td>104680000</td>\n",
       "      <td>103519997</td>\n",
       "      <td>104599998</td>\n",
       "      <td>104126785</td>\n",
       "      <td>972200</td>\n",
       "    </tr>\n",
       "    <tr>\n",
       "      <th>4</th>\n",
       "      <td>19.11.2019</td>\n",
       "      <td>104800003</td>\n",
       "      <td>105239998</td>\n",
       "      <td>103779999</td>\n",
       "      <td>105070000</td>\n",
       "      <td>104594666</td>\n",
       "      <td>888200</td>\n",
       "    </tr>\n",
       "  </tbody>\n",
       "</table>\n",
       "</div>"
      ],
      "text/plain": [
       "         Date       Open       High        Low      Close  Adj Close   Volume\n",
       "0  13.11.2019  102050003  103750000  101239998  103269997  102802803   805700\n",
       "1  14.11.2019  103269997  103309998  102389999  103260002  102792854   804600\n",
       "2  15.11.2019  103110001  104150002  102830002  103589996  103121353  2597200\n",
       "3  18.11.2019  103779999  104680000  103519997  104599998  104126785   972200\n",
       "4  19.11.2019  104800003  105239998  103779999  105070000  104594666   888200"
      ]
     },
     "execution_count": 16,
     "metadata": {},
     "output_type": "execute_result"
    }
   ],
   "source": [
    "# Getting the real stock price of 2017\n",
    "dataset_test = pd.read_csv('nd_test.csv',sep = ';')\n",
    "dataset_test.head()"
   ]
  },
  {
   "cell_type": "code",
   "execution_count": 17,
   "metadata": {},
   "outputs": [],
   "source": [
    "real_stock_price = dataset_test.loc[:, [\"Close\"]].values\n"
   ]
  },
  {
   "cell_type": "code",
   "execution_count": 18,
   "metadata": {},
   "outputs": [
    {
     "data": {
      "text/plain": [
       "67"
      ]
     },
     "execution_count": 18,
     "metadata": {},
     "output_type": "execute_result"
    }
   ],
   "source": [
    "# Getting the predicted stock price of 2017\n",
    "dataset_total = pd.concat((df['Close'], dataset_test['Close']), axis = 0)\n",
    "inputs = dataset_total[len(dataset_total) - len(dataset_test) - timesteps:].values.reshape(-1,1)\n",
    "inputs = scaler.transform(inputs)  # min max scaler\n",
    "inputs.size"
   ]
  },
  {
   "cell_type": "code",
   "execution_count": 19,
   "metadata": {},
   "outputs": [
    {
     "data": {
      "image/png": "[encoded data removed]",
      "text/plain": [
       "<Figure size 432x288 with 1 Axes>"
      ]
     },
     "metadata": {
      "needs_background": "light"
     },
     "output_type": "display_data"
    }
   ],
   "source": [
    "X_test = []\n",
    "for i in range(timesteps, 67):\n",
    "    X_test.append(inputs[i-timesteps:i, 0])\n",
    "X_test = np.array(X_test)\n",
    "X_test = np.reshape(X_test, (X_test.shape[0], X_test.shape[1], 1))\n",
    "predicted_stock_price = regressor.predict(X_test)\n",
    "predicted_stock_price = scaler.inverse_transform(predicted_stock_price)\n",
    "\n",
    "# Visualising the results\n",
    "plt.plot(real_stock_price, color = 'red', label = 'Real  Stock Price')\n",
    "plt.plot(predicted_stock_price, color = 'blue', label = 'Predicted  Stock Price')\n",
    "plt.title(' Stock Price Prediction')\n",
    "plt.xlabel('Time')\n",
    "plt.ylabel(' Stock Price')\n",
    "plt.legend()\n",
    "plt.show()\n",
    "# epoch = 250 daha güzel sonuç veriyor."
   ]
  },
  {
   "cell_type": "code",
   "execution_count": 69,
   "metadata": {},
   "outputs": [
    {
     "name": "stdout",
     "output_type": "stream",
     "text": [
      "23\n",
      "23\n",
      "2037\n",
      "(23, 1)\n",
      "(23, 1, 1)\n"
     ]
    }
   ],
   "source": [
    "print(predicted_stock_price.size)\n",
    "print(real_stock_price.size)\n",
    "print(dataset_total.size)\n",
    "print(real_stock_price2.shape)\n",
    "\n",
    "\n"
   ]
  },
  {
   "cell_type": "markdown",
   "metadata": {},
   "source": [
    "# lstm model"
   ]
  },
  {
   "cell_type": "code",
   "execution_count": 151,
   "metadata": {},
   "outputs": [],
   "source": [
    "import numpy\n",
    "import pandas as pd \n",
    "import matplotlib.pyplot as plt\n",
    "import math\n",
    "from keras.models import Sequential\n",
    "from keras.layers import Dense\n",
    "from keras.layers import LSTM\n",
    "from sklearn.preprocessing import MinMaxScaler\n",
    "from sklearn.metrics import mean_squared_error"
   ]
  },
  {
   "cell_type": "code",
   "execution_count": 152,
   "metadata": {},
   "outputs": [
    {
     "data": {
      "text/html": [
       "<div>\n",
       "<style scoped>\n",
       "    .dataframe tbody tr th:only-of-type {\n",
       "        vertical-align: middle;\n",
       "    }\n",
       "\n",
       "    .dataframe tbody tr th {\n",
       "        vertical-align: top;\n",
       "    }\n",
       "\n",
       "    .dataframe thead th {\n",
       "        text-align: right;\n",
       "    }\n",
       "</style>\n",
       "<table border=\"1\" class=\"dataframe\">\n",
       "  <thead>\n",
       "    <tr style=\"text-align: right;\">\n",
       "      <th></th>\n",
       "      <th>Date</th>\n",
       "      <th>Open</th>\n",
       "      <th>High</th>\n",
       "      <th>Low</th>\n",
       "      <th>Close</th>\n",
       "      <th>Adj Close</th>\n",
       "      <th>Volume</th>\n",
       "    </tr>\n",
       "  </thead>\n",
       "  <tbody>\n",
       "    <tr>\n",
       "      <th>0</th>\n",
       "      <td>2011-12-13</td>\n",
       "      <td>24959999</td>\n",
       "      <td>25129999</td>\n",
       "      <td>24139999</td>\n",
       "      <td>24309999</td>\n",
       "      <td>21125864</td>\n",
       "      <td>1855800</td>\n",
       "    </tr>\n",
       "    <tr>\n",
       "      <th>1</th>\n",
       "      <td>2011-12-14</td>\n",
       "      <td>24180000</td>\n",
       "      <td>24360001</td>\n",
       "      <td>23920000</td>\n",
       "      <td>24059999</td>\n",
       "      <td>20908606</td>\n",
       "      <td>1597400</td>\n",
       "    </tr>\n",
       "    <tr>\n",
       "      <th>2</th>\n",
       "      <td>2011-12-15</td>\n",
       "      <td>24490000</td>\n",
       "      <td>24530001</td>\n",
       "      <td>24139999</td>\n",
       "      <td>24250000</td>\n",
       "      <td>21073723</td>\n",
       "      <td>1260500</td>\n",
       "    </tr>\n",
       "    <tr>\n",
       "      <th>3</th>\n",
       "      <td>2011-12-16</td>\n",
       "      <td>24430000</td>\n",
       "      <td>24520000</td>\n",
       "      <td>23980000</td>\n",
       "      <td>24030001</td>\n",
       "      <td>20882536</td>\n",
       "      <td>1900400</td>\n",
       "    </tr>\n",
       "    <tr>\n",
       "      <th>4</th>\n",
       "      <td>2011-12-19</td>\n",
       "      <td>24100000</td>\n",
       "      <td>24260000</td>\n",
       "      <td>23559999</td>\n",
       "      <td>23610001</td>\n",
       "      <td>20517548</td>\n",
       "      <td>1286800</td>\n",
       "    </tr>\n",
       "  </tbody>\n",
       "</table>\n",
       "</div>"
      ],
      "text/plain": [
       "        Date      Open      High       Low     Close  Adj Close   Volume\n",
       "0 2011-12-13  24959999  25129999  24139999  24309999   21125864  1855800\n",
       "1 2011-12-14  24180000  24360001  23920000  24059999   20908606  1597400\n",
       "2 2011-12-15  24490000  24530001  24139999  24250000   21073723  1260500\n",
       "3 2011-12-16  24430000  24520000  23980000  24030001   20882536  1900400\n",
       "4 2011-12-19  24100000  24260000  23559999  23610001   20517548  1286800"
      ]
     },
     "execution_count": 152,
     "metadata": {},
     "output_type": "execute_result"
    }
   ],
   "source": [
    "data = pd.read_csv('nd.csv',sep = ';')\n",
    "data.head()\n",
    "data['Date'] = pd.to_datetime(data['Date'])\n",
    "#data.set_axis(data['Date'], inplace=True)\n",
    "#data.drop(columns=['Open', 'High', 'Low', 'Volume','Adj Close'], inplace=True)\n",
    "data.head()"
   ]
  },
  {
   "cell_type": "code",
   "execution_count": 153,
   "metadata": {},
   "outputs": [
    {
     "data": {
      "image/png": "[encoded data removed]",
      "text/plain": [
       "<Figure size 432x288 with 1 Axes>"
      ]
     },
     "metadata": {
      "needs_background": "light"
     },
     "output_type": "display_data"
    }
   ],
   "source": [
    "dataset = data.iloc[:,1:5].values\n",
    "plt.plot(dataset)\n",
    "plt.xlabel(\"time\")\n",
    "plt.ylabel(\"price\")\n",
    "plt.title(\"stock price\")\n",
    "plt.show()"
   ]
  },
  {
   "cell_type": "code",
   "execution_count": 154,
   "metadata": {},
   "outputs": [
    {
     "data": {
      "text/plain": [
       "(7968, 1)"
      ]
     },
     "execution_count": 154,
     "metadata": {},
     "output_type": "execute_result"
    }
   ],
   "source": [
    "dataset = dataset.reshape(-1,1)\n",
    "dataset = dataset.astype(\"float32\")\n",
    "dataset.shape"
   ]
  },
  {
   "cell_type": "code",
   "execution_count": 155,
   "metadata": {},
   "outputs": [],
   "source": [
    "# scaling \n",
    "scaler = MinMaxScaler(feature_range=(0, 1))\n",
    "dataset = scaler.fit_transform(dataset)"
   ]
  },
  {
   "cell_type": "code",
   "execution_count": 157,
   "metadata": {},
   "outputs": [
    {
     "name": "stdout",
     "output_type": "stream",
     "text": [
      "train size: 5577, test size: 2391 \n"
     ]
    }
   ],
   "source": [
    "train_size = int(len(dataset) * 0.70)\n",
    "test_size = len(dataset) - train_size\n",
    "train = dataset[0:train_size,:]\n",
    "test = dataset[train_size:len(dataset),:]\n",
    "print(\"train size: {}, test size: {} \".format(len(train), len(test)))"
   ]
  },
  {
   "cell_type": "code",
   "execution_count": 158,
   "metadata": {},
   "outputs": [
    {
     "data": {
      "text/plain": [
       "(5577, 1)"
      ]
     },
     "execution_count": 158,
     "metadata": {},
     "output_type": "execute_result"
    }
   ],
   "source": [
    "train.shape"
   ]
  },
  {
   "cell_type": "code",
   "execution_count": 159,
   "metadata": {},
   "outputs": [],
   "source": [
    "time_stemp = 15\n",
    "dataX = []\n",
    "dataY = []\n",
    "for i in range(len(train)-time_stemp-1):\n",
    "    a = train[i:(i+time_stemp), 0]\n",
    "    dataX.append(a)\n",
    "    dataY.append(train[i + time_stemp, 0])\n",
    "trainX = numpy.array(dataX)\n",
    "trainY = numpy.array(dataY) \n"
   ]
  },
  {
   "cell_type": "code",
   "execution_count": 160,
   "metadata": {},
   "outputs": [
    {
     "name": "stdout",
     "output_type": "stream",
     "text": [
      "(5561, 15)\n"
     ]
    }
   ],
   "source": [
    "print(trainX.shape)"
   ]
  },
  {
   "cell_type": "code",
   "execution_count": 161,
   "metadata": {},
   "outputs": [],
   "source": [
    "dataX = []\n",
    "dataY = []\n",
    "for i in range(len(test)-time_stemp-1):\n",
    "    a = test[i:(i+time_stemp), 0]\n",
    "    dataX.append(a)\n",
    "    dataY.append(test[i + time_stemp, 0])\n",
    "testX = numpy.array(dataX)\n",
    "testY = numpy.array(dataY)  "
   ]
  },
  {
   "cell_type": "code",
   "execution_count": null,
   "metadata": {},
   "outputs": [],
   "source": []
  },
  {
   "cell_type": "code",
   "execution_count": 162,
   "metadata": {},
   "outputs": [],
   "source": [
    "trainX = numpy.reshape(trainX, (trainX.shape[0], 1, trainX.shape[1]))\n",
    "testX = numpy.reshape(testX, (testX.shape[0], 1, testX.shape[1]))"
   ]
  },
  {
   "cell_type": "code",
   "execution_count": 163,
   "metadata": {},
   "outputs": [
    {
     "name": "stdout",
     "output_type": "stream",
     "text": [
      "Epoch 1/10\n",
      "5561/5561 [==============================] - 46s 8ms/step - loss: 2.0601e-04\n",
      "Epoch 2/10\n",
      "5561/5561 [==============================] - 43s 8ms/step - loss: 9.0567e-05\n",
      "Epoch 3/10\n",
      "5561/5561 [==============================] - 46s 8ms/step - loss: 8.0172e-05\n",
      "Epoch 4/10\n",
      "5561/5561 [==============================] - 44s 8ms/step - loss: 6.9781e-05\n",
      "Epoch 5/10\n",
      "5561/5561 [==============================] - 45s 8ms/step - loss: 6.0961e-05\n",
      "Epoch 6/10\n",
      "5561/5561 [==============================] - 45s 8ms/step - loss: 5.6137e-05\n",
      "Epoch 7/10\n",
      "5561/5561 [==============================] - 45s 8ms/step - loss: 5.4141e-05\n",
      "Epoch 8/10\n",
      "5561/5561 [==============================] - 45s 8ms/step - loss: 5.1650e-05\n",
      "Epoch 9/10\n",
      "5561/5561 [==============================] - 45s 8ms/step - loss: 4.9070e-05\n",
      "Epoch 10/10\n",
      "5561/5561 [==============================] - 45s 8ms/step - loss: 4.5149e-05\n"
     ]
    },
    {
     "data": {
      "text/plain": [
       "<keras.callbacks.History at 0x212f4c77668>"
      ]
     },
     "execution_count": 163,
     "metadata": {},
     "output_type": "execute_result"
    }
   ],
   "source": [
    "# model\n",
    "model = Sequential()\n",
    "model.add(LSTM(10, input_shape=(1, time_stemp))) # 10 lstm neuron(block)\n",
    "model.add(Dense(1))\n",
    "model.compile(loss='mean_squared_error', optimizer='adam')\n",
    "model.fit(trainX, trainY, epochs=10, batch_size=1)"
   ]
  },
  {
   "cell_type": "code",
   "execution_count": 12,
   "metadata": {},
   "outputs": [
    {
     "name": "stdout",
     "output_type": "stream",
     "text": [
      "(4759, 1, 20)\n",
      "(4759,)\n"
     ]
    }
   ],
   "source": [
    "print(trainX.shape)\n",
    "print(trainY.shape)"
   ]
  },
  {
   "cell_type": "code",
   "execution_count": 194,
   "metadata": {},
   "outputs": [],
   "source": [
    "import pickle\n",
    "# Save the Modle to file in the current working directory\n",
    "\n",
    "Pkl_Filename = \"model.pkl\"  \n",
    "\n",
    "with open(Pkl_Filename, 'wb') as file:  \n",
    "    pickle.dump(model, file)"
   ]
  },
  {
   "cell_type": "code",
   "execution_count": null,
   "metadata": {},
   "outputs": [],
   "source": [
    "# Load the Model back from file\n",
    "with open(Pkl_Filename, 'rb') as file:  \n",
    "    model = pickle.load(file)\n",
    "\n",
    "model"
   ]
  },
  {
   "cell_type": "code",
   "execution_count": 164,
   "metadata": {},
   "outputs": [
    {
     "name": "stdout",
     "output_type": "stream",
     "text": [
      "Train Score: 475358.10 RMSE\n",
      "Test Score: 2967640.74 RMSE\n"
     ]
    }
   ],
   "source": [
    "trainPredict = model.predict(trainX)\n",
    "testPredict = model.predict(testX)\n",
    "# invert predictions\n",
    "trainPredict = scaler.inverse_transform(trainPredict)\n",
    "trainY = scaler.inverse_transform([trainY])\n",
    "testPredict = scaler.inverse_transform(testPredict)\n",
    "testY = scaler.inverse_transform([testY])\n",
    "# calculate root mean squared error\n",
    "trainScore = math.sqrt(mean_squared_error(trainY[0], trainPredict[:,0]))\n",
    "print('Train Score: %.2f RMSE' % (trainScore))\n",
    "testScore = math.sqrt(mean_squared_error(testY[0], testPredict[:,0]))\n",
    "print('Test Score: %.2f RMSE' % (testScore))"
   ]
  },
  {
   "cell_type": "code",
   "execution_count": 173,
   "metadata": {},
   "outputs": [
    {
     "data": {
      "image/png": "[encoded data removed]",
      "text/plain": [
       "<Figure size 432x288 with 1 Axes>"
      ]
     },
     "metadata": {
      "needs_background": "light"
     },
     "output_type": "display_data"
    }
   ],
   "source": [
    "# shifting train\n",
    "trainPredictPlot = numpy.empty_like(dataset)\n",
    "trainPredictPlot[:, :] = numpy.nan\n",
    "trainPredictPlot[time_stemp:len(trainPredict)+time_stemp, :] = trainPredict\n",
    "# shifting test predictions for plotting\n",
    "testPredictPlot = numpy.empty_like(dataset)\n",
    "testPredictPlot[:, :] = numpy.nan\n",
    "testPredictPlot[len(trainPredict)+(time_stemp*2)+1:len(dataset)-1, :] = testPredict\n",
    "# plot baseline and predictions\n",
    "plt.plot(scaler.inverse_transform(dataset))\n",
    "plt.plot(trainPredictPlot,color=\"purple\")\n",
    "plt.plot(testPredictPlot,color=\"red\")\n",
    "plt.show()"
   ]
  },
  {
   "cell_type": "markdown",
   "metadata": {},
   "source": [
    "# forecasting"
   ]
  },
  {
   "cell_type": "code",
   "execution_count": 167,
   "metadata": {},
   "outputs": [
    {
     "name": "stdout",
     "output_type": "stream",
     "text": [
      "(1992,)\n",
      "(1976, 15)\n",
      "(29640, 1)\n"
     ]
    }
   ],
   "source": [
    "close_data = data['Close'].values\n",
    "print(close_data.shape)\n",
    "close_data = close_data.reshape((-1,1))\n",
    "time_stemp = 15\n",
    "close = []\n",
    "for i in range(len(close_data)-time_stemp-1):\n",
    "    a = close_data[i:(i+time_stemp), 0]\n",
    "    close.append(a)\n",
    "close_data = numpy.array(close)\n",
    "print(close_data.shape)\n",
    "close_data = close_data.reshape((-1,1))\n",
    "#close_data = numpy.reshape(close_data, (close_data.shape[0], 1,close_data.shape[1] ))\n",
    "#close_data = close_data.reshape((-1))\n",
    "print(close_data.shape)\n"
   ]
  },
  {
   "cell_type": "code",
   "execution_count": 130,
   "metadata": {},
   "outputs": [
    {
     "name": "stdout",
     "output_type": "stream",
     "text": [
      "(20, 1)\n",
      "(20, 1)\n",
      "(15, 1)\n",
      "1.2316636\n"
     ]
    }
   ],
   "source": [
    "prediction_list = close_data[-look_back:]\n",
    "print(prediction_list.shape)\n",
    "x = prediction_list[-look_back:]\n",
    "x2 = prediction_list[-look_back+5:]\n",
    "print(x.shape)\n",
    "print(x2.shape)\n",
    "x = x.reshape((1,1, look_back))\n",
    "#x.shape\n",
    "out = model.predict(x)\n",
    "print(out[0][0])"
   ]
  },
  {
   "cell_type": "code",
   "execution_count": 191,
   "metadata": {},
   "outputs": [],
   "source": [
    "look_back = 15\n",
    "def predict(num_prediction, model):\n",
    "    prediction_list = close_data[-look_back:]    \n",
    "    for i in range(num_prediction):\n",
    "        x = prediction_list[-look_back:]\n",
    "        #x= numpy.reshape(x, (x.shape[0], x.shape[1],look_back ))\n",
    "        x = x.reshape((1,1, look_back))\n",
    "        out = model.predict(x)[0][0]\n",
    "        #out=scaler.inverse_transform(out)\n",
    "        prediction_list = np.append(prediction_list, out)\n",
    "    prediction_list = prediction_list[look_back-1:]       \n",
    "    return prediction_list\n",
    "    \n",
    "def predict_dates(num_prediction):\n",
    "    last_date = data['Date'].values[-1]\n",
    "    prediction_dates = pd.date_range(last_date, periods=num_prediction+1).tolist()\n",
    "    return prediction_dates\n"
   ]
  },
  {
   "cell_type": "code",
   "execution_count": 193,
   "metadata": {},
   "outputs": [
    {
     "data": {
      "text/plain": [
       "array([ 1.00660004e+08,  1.04304564e+00,  1.04304564e+00,  1.04304564e+00,\n",
       "        1.04304564e+00,  1.04304564e+00, -1.54021084e-01, -1.54021084e-01,\n",
       "       -1.54021084e-01, -9.90042508e-01, -9.90042508e-01, -5.72031796e-01,\n",
       "       -5.72031796e-01,  2.65015904e-02, -3.91509116e-01, -3.91509116e-01])"
      ]
     },
     "execution_count": 193,
     "metadata": {},
     "output_type": "execute_result"
    }
   ],
   "source": [
    "forecast"
   ]
  },
  {
   "cell_type": "code",
   "execution_count": 192,
   "metadata": {},
   "outputs": [],
   "source": [
    "num_prediction = 15\n",
    "forecast = predict(num_prediction, model)\n",
    "forecast_dates = predict_dates(num_prediction)"
   ]
  },
  {
   "cell_type": "code",
   "execution_count": 170,
   "metadata": {},
   "outputs": [
    {
     "data": {
      "text/plain": [
       "array([ 1.00660004e+08,  1.04304564e+00,  1.04304564e+00,  1.04304564e+00,\n",
       "        1.04304564e+00,  1.04304564e+00, -1.54021084e-01, -1.54021084e-01,\n",
       "       -1.54021084e-01, -9.90042508e-01, -9.90042508e-01])"
      ]
     },
     "execution_count": 170,
     "metadata": {},
     "output_type": "execute_result"
    }
   ],
   "source": [
    "forecast"
   ]
  },
  {
   "cell_type": "code",
   "execution_count": 146,
   "metadata": {},
   "outputs": [],
   "source": [
    "num_prediction = 30\n",
    "forecast = predict(num_prediction, model)\n",
    "forecast_date = predict_dates(num_prediction)"
   ]
  },
  {
   "cell_type": "code",
   "execution_count": 40,
   "metadata": {},
   "outputs": [
    {
     "data": {
      "text/html": [
       "<div>\n",
       "<style scoped>\n",
       "    .dataframe tbody tr th:only-of-type {\n",
       "        vertical-align: middle;\n",
       "    }\n",
       "\n",
       "    .dataframe tbody tr th {\n",
       "        vertical-align: top;\n",
       "    }\n",
       "\n",
       "    .dataframe thead th {\n",
       "        text-align: right;\n",
       "    }\n",
       "</style>\n",
       "<table border=\"1\" class=\"dataframe\">\n",
       "  <thead>\n",
       "    <tr style=\"text-align: right;\">\n",
       "      <th></th>\n",
       "      <th>Date</th>\n",
       "      <th>Open</th>\n",
       "      <th>High</th>\n",
       "      <th>Low</th>\n",
       "      <th>Close</th>\n",
       "      <th>Adj Close</th>\n",
       "      <th>Volume</th>\n",
       "    </tr>\n",
       "  </thead>\n",
       "  <tbody>\n",
       "    <tr>\n",
       "      <th>1987</th>\n",
       "      <td>2019-06-11</td>\n",
       "      <td>98160004</td>\n",
       "      <td>100080002</td>\n",
       "      <td>97980003</td>\n",
       "      <td>99919998</td>\n",
       "      <td>99467964</td>\n",
       "      <td>678200</td>\n",
       "    </tr>\n",
       "    <tr>\n",
       "      <th>1988</th>\n",
       "      <td>2019-07-11</td>\n",
       "      <td>100440002</td>\n",
       "      <td>100669998</td>\n",
       "      <td>99160004</td>\n",
       "      <td>100529999</td>\n",
       "      <td>100075203</td>\n",
       "      <td>959300</td>\n",
       "    </tr>\n",
       "    <tr>\n",
       "      <th>1989</th>\n",
       "      <td>2019-08-11</td>\n",
       "      <td>100309998</td>\n",
       "      <td>101260002</td>\n",
       "      <td>100160004</td>\n",
       "      <td>100660004</td>\n",
       "      <td>100204620</td>\n",
       "      <td>919700</td>\n",
       "    </tr>\n",
       "    <tr>\n",
       "      <th>1990</th>\n",
       "      <td>2019-11-11</td>\n",
       "      <td>100370003</td>\n",
       "      <td>102580002</td>\n",
       "      <td>100220001</td>\n",
       "      <td>102529999</td>\n",
       "      <td>102066154</td>\n",
       "      <td>825300</td>\n",
       "    </tr>\n",
       "    <tr>\n",
       "      <th>1991</th>\n",
       "      <td>2019-12-11</td>\n",
       "      <td>102629997</td>\n",
       "      <td>102629997</td>\n",
       "      <td>101300003</td>\n",
       "      <td>102449997</td>\n",
       "      <td>101986511</td>\n",
       "      <td>809400</td>\n",
       "    </tr>\n",
       "  </tbody>\n",
       "</table>\n",
       "</div>"
      ],
      "text/plain": [
       "           Date       Open       High        Low      Close  Adj Close  Volume\n",
       "1987 2019-06-11   98160004  100080002   97980003   99919998   99467964  678200\n",
       "1988 2019-07-11  100440002  100669998   99160004  100529999  100075203  959300\n",
       "1989 2019-08-11  100309998  101260002  100160004  100660004  100204620  919700\n",
       "1990 2019-11-11  100370003  102580002  100220001  102529999  102066154  825300\n",
       "1991 2019-12-11  102629997  102629997  101300003  102449997  101986511  809400"
      ]
     },
     "execution_count": 40,
     "metadata": {},
     "output_type": "execute_result"
    }
   ],
   "source": [
    "data.tail(5)"
   ]
  },
  {
   "cell_type": "code",
   "execution_count": 180,
   "metadata": {},
   "outputs": [
    {
     "data": {
      "image/png": "[encoded data removed]",
      "text/plain": [
       "<Figure size 432x288 with 1 Axes>"
      ]
     },
     "metadata": {
      "needs_background": "light"
     },
     "output_type": "display_data"
    }
   ],
   "source": [
    "plt.plot(forecast_dates,forecast,color=\"purple\")\n",
    "#plt.plot(forecast,color=\"red\")\n",
    "plt.show()"
   ]
  },
  {
   "cell_type": "markdown",
   "metadata": {},
   "source": [
    "# lstm model2"
   ]
  },
  {
   "cell_type": "code",
   "execution_count": 20,
   "metadata": {},
   "outputs": [],
   "source": [
    "import tensorflow as tf\n",
    "from keras.preprocessing.sequence import TimeseriesGenerator"
   ]
  },
  {
   "cell_type": "code",
   "execution_count": 21,
   "metadata": {},
   "outputs": [
    {
     "name": "stdout",
     "output_type": "stream",
     "text": [
      "<class 'pandas.core.frame.DataFrame'>\n",
      "RangeIndex: 1992 entries, 0 to 1991\n",
      "Data columns (total 7 columns):\n",
      "Date         1992 non-null object\n",
      "Open         1992 non-null int64\n",
      "High         1992 non-null int64\n",
      "Low          1992 non-null int64\n",
      "Close        1992 non-null int64\n",
      "Adj Close    1992 non-null int64\n",
      "Volume       1992 non-null int64\n",
      "dtypes: int64(6), object(1)\n",
      "memory usage: 109.0+ KB\n",
      "None\n"
     ]
    }
   ],
   "source": [
    "df = pd.read_csv('nd.csv',sep = ';')\n",
    "df.head()\n",
    "print(df.info())"
   ]
  },
  {
   "cell_type": "code",
   "execution_count": 22,
   "metadata": {},
   "outputs": [],
   "source": [
    "df['Date'] = pd.to_datetime(df['Date'])\n",
    "df.set_axis(df['Date'], inplace=True)\n",
    "df.drop(columns=['Open', 'High', 'Low', 'Volume','Adj Close'], inplace=True)"
   ]
  },
  {
   "cell_type": "code",
   "execution_count": 23,
   "metadata": {},
   "outputs": [
    {
     "name": "stdout",
     "output_type": "stream",
     "text": [
      "1593\n",
      "399\n"
     ]
    }
   ],
   "source": [
    "close_data = df['Close'].values\n",
    "close_data = close_data.reshape((-1,1))\n",
    "\n",
    "split_percent = 0.80\n",
    "split = int(split_percent*len(close_data))\n",
    "\n",
    "close_train = close_data[:split]\n",
    "close_test = close_data[split:]\n",
    "\n",
    "date_train = df['Date'][:split]\n",
    "date_test = df['Date'][split:]\n",
    "\n",
    "print(len(close_train))\n",
    "print(len(close_test))"
   ]
  },
  {
   "cell_type": "code",
   "execution_count": 24,
   "metadata": {},
   "outputs": [],
   "source": [
    "look_back = 15\n",
    "\n",
    "train_generator = TimeseriesGenerator(close_train, close_train, length=look_back, batch_size=20)     \n",
    "test_generator = TimeseriesGenerator(close_test, close_test, length=look_back, batch_size=1)"
   ]
  },
  {
   "cell_type": "code",
   "execution_count": 25,
   "metadata": {},
   "outputs": [
    {
     "name": "stdout",
     "output_type": "stream",
     "text": [
      "Epoch 1/25\n",
      "79/79 [==============================] - 4s 55ms/step - loss: 3054102513591682.0000\n",
      "Epoch 2/25\n",
      "79/79 [==============================] - 3s 38ms/step - loss: 2908251475297248.5000\n",
      "Epoch 3/25\n",
      "79/79 [==============================] - 3s 39ms/step - loss: 2837317995194797.0000\n",
      "Epoch 4/25\n",
      "79/79 [==============================] - 3s 40ms/step - loss: 2804548614417162.0000\n",
      "Epoch 5/25\n",
      "79/79 [==============================] - 3s 39ms/step - loss: 2788587003701943.0000\n",
      "Epoch 6/25\n",
      "79/79 [==============================] - 3s 40ms/step - loss: 2780504703489822.0000\n",
      "Epoch 7/25\n",
      "79/79 [==============================] - 3s 38ms/step - loss: 2774333618021924.0000\n",
      "Epoch 8/25\n",
      "79/79 [==============================] - 3s 40ms/step - loss: 2762902972522016.5000\n",
      "Epoch 9/25\n",
      "79/79 [==============================] - 3s 39ms/step - loss: 2729650661647609.0000\n",
      "Epoch 10/25\n",
      "79/79 [==============================] - 3s 40ms/step - loss: 2621216505929261.0000\n",
      "Epoch 11/25\n",
      "79/79 [==============================] - 3s 39ms/step - loss: 2297014654738313.5000\n",
      "Epoch 12/25\n",
      "79/79 [==============================] - 3s 39ms/step - loss: 1537171064604056.7500\n",
      "Epoch 13/25\n",
      "79/79 [==============================] - 3s 39ms/step - loss: 2265058984012783.0000\n",
      "Epoch 14/25\n",
      "79/79 [==============================] - 3s 39ms/step - loss: 2758638939038803.0000\n",
      "Epoch 15/25\n",
      "79/79 [==============================] - 3s 39ms/step - loss: 2768610108235628.5000\n",
      "Epoch 16/25\n",
      "79/79 [==============================] - 3s 39ms/step - loss: 2770388704796728.0000\n",
      "Epoch 17/25\n",
      "79/79 [==============================] - 3s 38ms/step - loss: 2770373600815645.5000\n",
      "Epoch 18/25\n",
      "79/79 [==============================] - 3s 38ms/step - loss: 2770357674525581.5000\n",
      "Epoch 19/25\n",
      "79/79 [==============================] - 3s 40ms/step - loss: 2770340528363929.5000\n",
      "Epoch 20/25\n",
      "79/79 [==============================] - 3s 39ms/step - loss: 2770328669445149.0000\n",
      "Epoch 21/25\n",
      "79/79 [==============================] - 3s 38ms/step - loss: 2778516916463796.0000\n",
      "Epoch 22/25\n",
      "79/79 [==============================] - 3s 38ms/step - loss: 2778516916463796.0000\n",
      "Epoch 23/25\n",
      "79/79 [==============================] - 3s 39ms/step - loss: 2778516916463796.0000\n",
      "Epoch 24/25\n",
      "79/79 [==============================] - 3s 38ms/step - loss: 2778516916463796.0000\n",
      "Epoch 25/25\n",
      "79/79 [==============================] - 3s 40ms/step - loss: 2778516916463796.0000\n"
     ]
    },
    {
     "data": {
      "text/plain": [
       "<keras.callbacks.History at 0x1be42cda898>"
      ]
     },
     "execution_count": 25,
     "metadata": {},
     "output_type": "execute_result"
    }
   ],
   "source": [
    "from keras.models import Sequential\n",
    "from keras.layers import LSTM, Dense\n",
    "model = Sequential()\n",
    "model.add(\n",
    "    LSTM(10,\n",
    "        activation='relu',\n",
    "        input_shape=(look_back,1))\n",
    ")\n",
    "model.add(Dense(1))\n",
    "model.compile(optimizer='adam', loss='mse')\n",
    "num_epochs = 25\n",
    "model.fit_generator(train_generator, epochs=num_epochs, verbose=1)"
   ]
  },
  {
   "cell_type": "code",
   "execution_count": 28,
   "metadata": {},
   "outputs": [
    {
     "ename": "ValueError",
     "evalue": "\n    Invalid value of type 'builtins.str' received for the 'mode' property of scatter\n        Received value: 'point'\n\n    The 'mode' property is a flaglist and may be specified\n    as a string containing:\n      - Any combination of ['lines', 'markers', 'text'] joined with '+' characters\n        (e.g. 'lines+markers')\n        OR exactly one of ['none'] (e.g. 'none')",
     "output_type": "error",
     "traceback": [
      "\u001b[1;31m---------------------------------------------------------------------------\u001b[0m",
      "\u001b[1;31mValueError\u001b[0m                                Traceback (most recent call last)",
      "\u001b[1;32m<ipython-input-28-2b74c6f4e73d>\u001b[0m in \u001b[0;36m<module>\u001b[1;34m()\u001b[0m\n\u001b[0;32m     13\u001b[0m     \u001b[0my\u001b[0m \u001b[1;33m=\u001b[0m \u001b[0mclose_train\u001b[0m\u001b[1;33m,\u001b[0m\u001b[1;33m\u001b[0m\u001b[0m\n\u001b[0;32m     14\u001b[0m     \u001b[0mmode\u001b[0m \u001b[1;33m=\u001b[0m \u001b[1;34m'point'\u001b[0m\u001b[1;33m,\u001b[0m\u001b[1;33m\u001b[0m\u001b[0m\n\u001b[1;32m---> 15\u001b[1;33m     \u001b[0mname\u001b[0m \u001b[1;33m=\u001b[0m \u001b[1;34m'Data'\u001b[0m\u001b[1;33m\u001b[0m\u001b[0m\n\u001b[0m\u001b[0;32m     16\u001b[0m )\n\u001b[0;32m     17\u001b[0m trace2 = go.Scatter(\n",
      "\u001b[1;32m~\\Anaconda3\\lib\\site-packages\\plotly\\graph_objs\\__init__.py\u001b[0m in \u001b[0;36m__init__\u001b[1;34m(self, arg, cliponaxis, connectgaps, customdata, customdatasrc, dx, dy, error_x, error_y, fill, fillcolor, groupnorm, hoverinfo, hoverinfosrc, hoverlabel, hoveron, hovertemplate, hovertemplatesrc, hovertext, hovertextsrc, ids, idssrc, legendgroup, line, marker, meta, metasrc, mode, name, opacity, orientation, r, rsrc, selected, selectedpoints, showlegend, stackgaps, stackgroup, stream, t, text, textfont, textposition, textpositionsrc, textsrc, texttemplate, texttemplatesrc, tsrc, uid, uirevision, unselected, visible, x, x0, xaxis, xcalendar, xsrc, y, y0, yaxis, ycalendar, ysrc, **kwargs)\u001b[0m\n\u001b[0;32m  37589\u001b[0m         \u001b[0mself\u001b[0m\u001b[1;33m[\u001b[0m\u001b[1;34m\"metasrc\"\u001b[0m\u001b[1;33m]\u001b[0m \u001b[1;33m=\u001b[0m \u001b[0mmetasrc\u001b[0m \u001b[1;32mif\u001b[0m \u001b[0mmetasrc\u001b[0m \u001b[1;32mis\u001b[0m \u001b[1;32mnot\u001b[0m \u001b[1;32mNone\u001b[0m \u001b[1;32melse\u001b[0m \u001b[0m_v\u001b[0m\u001b[1;33m\u001b[0m\u001b[0m\n\u001b[0;32m  37590\u001b[0m         \u001b[0m_v\u001b[0m \u001b[1;33m=\u001b[0m \u001b[0marg\u001b[0m\u001b[1;33m.\u001b[0m\u001b[0mpop\u001b[0m\u001b[1;33m(\u001b[0m\u001b[1;34m\"mode\"\u001b[0m\u001b[1;33m,\u001b[0m \u001b[1;32mNone\u001b[0m\u001b[1;33m)\u001b[0m\u001b[1;33m\u001b[0m\u001b[0m\n\u001b[1;32m> 37591\u001b[1;33m         \u001b[0mself\u001b[0m\u001b[1;33m[\u001b[0m\u001b[1;34m\"mode\"\u001b[0m\u001b[1;33m]\u001b[0m \u001b[1;33m=\u001b[0m \u001b[0mmode\u001b[0m \u001b[1;32mif\u001b[0m \u001b[0mmode\u001b[0m \u001b[1;32mis\u001b[0m \u001b[1;32mnot\u001b[0m \u001b[1;32mNone\u001b[0m \u001b[1;32melse\u001b[0m \u001b[0m_v\u001b[0m\u001b[1;33m\u001b[0m\u001b[0m\n\u001b[0m\u001b[0;32m  37592\u001b[0m         \u001b[0m_v\u001b[0m \u001b[1;33m=\u001b[0m \u001b[0marg\u001b[0m\u001b[1;33m.\u001b[0m\u001b[0mpop\u001b[0m\u001b[1;33m(\u001b[0m\u001b[1;34m\"name\"\u001b[0m\u001b[1;33m,\u001b[0m \u001b[1;32mNone\u001b[0m\u001b[1;33m)\u001b[0m\u001b[1;33m\u001b[0m\u001b[0m\n\u001b[0;32m  37593\u001b[0m         \u001b[0mself\u001b[0m\u001b[1;33m[\u001b[0m\u001b[1;34m\"name\"\u001b[0m\u001b[1;33m]\u001b[0m \u001b[1;33m=\u001b[0m \u001b[0mname\u001b[0m \u001b[1;32mif\u001b[0m \u001b[0mname\u001b[0m \u001b[1;32mis\u001b[0m \u001b[1;32mnot\u001b[0m \u001b[1;32mNone\u001b[0m \u001b[1;32melse\u001b[0m \u001b[0m_v\u001b[0m\u001b[1;33m\u001b[0m\u001b[0m\n",
      "\u001b[1;32m~\\Anaconda3\\lib\\site-packages\\plotly\\basedatatypes.py\u001b[0m in \u001b[0;36m__setitem__\u001b[1;34m(self, prop, value)\u001b[0m\n\u001b[0;32m   3488\u001b[0m             \u001b[1;31m# ### Handle simple property ###\u001b[0m\u001b[1;33m\u001b[0m\u001b[1;33m\u001b[0m\u001b[0m\n\u001b[0;32m   3489\u001b[0m             \u001b[1;32melse\u001b[0m\u001b[1;33m:\u001b[0m\u001b[1;33m\u001b[0m\u001b[0m\n\u001b[1;32m-> 3490\u001b[1;33m                 \u001b[0mself\u001b[0m\u001b[1;33m.\u001b[0m\u001b[0m_set_prop\u001b[0m\u001b[1;33m(\u001b[0m\u001b[0mprop\u001b[0m\u001b[1;33m,\u001b[0m \u001b[0mvalue\u001b[0m\u001b[1;33m)\u001b[0m\u001b[1;33m\u001b[0m\u001b[0m\n\u001b[0m\u001b[0;32m   3491\u001b[0m \u001b[1;33m\u001b[0m\u001b[0m\n\u001b[0;32m   3492\u001b[0m         \u001b[1;31m# Handle non-scalar case\u001b[0m\u001b[1;33m\u001b[0m\u001b[1;33m\u001b[0m\u001b[0m\n",
      "\u001b[1;32m~\\Anaconda3\\lib\\site-packages\\plotly\\basedatatypes.py\u001b[0m in \u001b[0;36m_set_prop\u001b[1;34m(self, prop, val)\u001b[0m\n\u001b[0;32m   3775\u001b[0m                 \u001b[1;32mreturn\u001b[0m\u001b[1;33m\u001b[0m\u001b[0m\n\u001b[0;32m   3776\u001b[0m             \u001b[1;32melse\u001b[0m\u001b[1;33m:\u001b[0m\u001b[1;33m\u001b[0m\u001b[0m\n\u001b[1;32m-> 3777\u001b[1;33m                 \u001b[1;32mraise\u001b[0m \u001b[0merr\u001b[0m\u001b[1;33m\u001b[0m\u001b[0m\n\u001b[0m\u001b[0;32m   3778\u001b[0m \u001b[1;33m\u001b[0m\u001b[0m\n\u001b[0;32m   3779\u001b[0m         \u001b[1;31m# val is None\u001b[0m\u001b[1;33m\u001b[0m\u001b[1;33m\u001b[0m\u001b[0m\n",
      "\u001b[1;32m~\\Anaconda3\\lib\\site-packages\\plotly\\basedatatypes.py\u001b[0m in \u001b[0;36m_set_prop\u001b[1;34m(self, prop, val)\u001b[0m\n\u001b[0;32m   3770\u001b[0m         \u001b[0mvalidator\u001b[0m \u001b[1;33m=\u001b[0m \u001b[0mself\u001b[0m\u001b[1;33m.\u001b[0m\u001b[0m_validators\u001b[0m\u001b[1;33m.\u001b[0m\u001b[0mget\u001b[0m\u001b[1;33m(\u001b[0m\u001b[0mprop\u001b[0m\u001b[1;33m)\u001b[0m\u001b[1;33m\u001b[0m\u001b[0m\n\u001b[0;32m   3771\u001b[0m         \u001b[1;32mtry\u001b[0m\u001b[1;33m:\u001b[0m\u001b[1;33m\u001b[0m\u001b[0m\n\u001b[1;32m-> 3772\u001b[1;33m             \u001b[0mval\u001b[0m \u001b[1;33m=\u001b[0m \u001b[0mvalidator\u001b[0m\u001b[1;33m.\u001b[0m\u001b[0mvalidate_coerce\u001b[0m\u001b[1;33m(\u001b[0m\u001b[0mval\u001b[0m\u001b[1;33m)\u001b[0m\u001b[1;33m\u001b[0m\u001b[0m\n\u001b[0m\u001b[0;32m   3773\u001b[0m         \u001b[1;32mexcept\u001b[0m \u001b[0mValueError\u001b[0m \u001b[1;32mas\u001b[0m \u001b[0merr\u001b[0m\u001b[1;33m:\u001b[0m\u001b[1;33m\u001b[0m\u001b[0m\n\u001b[0;32m   3774\u001b[0m             \u001b[1;32mif\u001b[0m \u001b[0mself\u001b[0m\u001b[1;33m.\u001b[0m\u001b[0m_skip_invalid\u001b[0m\u001b[1;33m:\u001b[0m\u001b[1;33m\u001b[0m\u001b[0m\n",
      "\u001b[1;32m~\\Anaconda3\\lib\\site-packages\\_plotly_utils\\basevalidators.py\u001b[0m in \u001b[0;36mvalidate_coerce\u001b[1;34m(self, v)\u001b[0m\n\u001b[0;32m   1865\u001b[0m             \u001b[0mvalidated_v\u001b[0m \u001b[1;33m=\u001b[0m \u001b[0mself\u001b[0m\u001b[1;33m.\u001b[0m\u001b[0mvc_scalar\u001b[0m\u001b[1;33m(\u001b[0m\u001b[0mv\u001b[0m\u001b[1;33m)\u001b[0m\u001b[1;33m\u001b[0m\u001b[0m\n\u001b[0;32m   1866\u001b[0m             \u001b[1;32mif\u001b[0m \u001b[0mvalidated_v\u001b[0m \u001b[1;32mis\u001b[0m \u001b[1;32mNone\u001b[0m\u001b[1;33m:\u001b[0m\u001b[1;33m\u001b[0m\u001b[0m\n\u001b[1;32m-> 1867\u001b[1;33m                 \u001b[0mself\u001b[0m\u001b[1;33m.\u001b[0m\u001b[0mraise_invalid_val\u001b[0m\u001b[1;33m(\u001b[0m\u001b[0mv\u001b[0m\u001b[1;33m)\u001b[0m\u001b[1;33m\u001b[0m\u001b[0m\n\u001b[0m\u001b[0;32m   1868\u001b[0m \u001b[1;33m\u001b[0m\u001b[0m\n\u001b[0;32m   1869\u001b[0m             \u001b[0mv\u001b[0m \u001b[1;33m=\u001b[0m \u001b[0mvalidated_v\u001b[0m\u001b[1;33m\u001b[0m\u001b[0m\n",
      "\u001b[1;32m~\\Anaconda3\\lib\\site-packages\\_plotly_utils\\basevalidators.py\u001b[0m in \u001b[0;36mraise_invalid_val\u001b[1;34m(self, v, inds)\u001b[0m\n\u001b[0;32m    281\u001b[0m                 \u001b[0mtyp\u001b[0m\u001b[1;33m=\u001b[0m\u001b[0mtype_str\u001b[0m\u001b[1;33m(\u001b[0m\u001b[0mv\u001b[0m\u001b[1;33m)\u001b[0m\u001b[1;33m,\u001b[0m\u001b[1;33m\u001b[0m\u001b[0m\n\u001b[0;32m    282\u001b[0m                 \u001b[0mv\u001b[0m\u001b[1;33m=\u001b[0m\u001b[0mrepr\u001b[0m\u001b[1;33m(\u001b[0m\u001b[0mv\u001b[0m\u001b[1;33m)\u001b[0m\u001b[1;33m,\u001b[0m\u001b[1;33m\u001b[0m\u001b[0m\n\u001b[1;32m--> 283\u001b[1;33m                 \u001b[0mvalid_clr_desc\u001b[0m\u001b[1;33m=\u001b[0m\u001b[0mself\u001b[0m\u001b[1;33m.\u001b[0m\u001b[0mdescription\u001b[0m\u001b[1;33m(\u001b[0m\u001b[1;33m)\u001b[0m\u001b[1;33m,\u001b[0m\u001b[1;33m\u001b[0m\u001b[0m\n\u001b[0m\u001b[0;32m    284\u001b[0m             )\n\u001b[0;32m    285\u001b[0m         )\n",
      "\u001b[1;31mValueError\u001b[0m: \n    Invalid value of type 'builtins.str' received for the 'mode' property of scatter\n        Received value: 'point'\n\n    The 'mode' property is a flaglist and may be specified\n    as a string containing:\n      - Any combination of ['lines', 'markers', 'text'] joined with '+' characters\n        (e.g. 'lines+markers')\n        OR exactly one of ['none'] (e.g. 'none')"
     ]
    }
   ],
   "source": [
    "import matplotlib.pyplot as plt\n",
    "import plotly.graph_objects as go\n",
    "\n",
    "prediction = model.predict_generator(test_generator)\n",
    "\n",
    "\n",
    "close_train = close_train.reshape((-1))\n",
    "close_test = close_test.reshape((-1))\n",
    "prediction = prediction.reshape((-1))\n",
    "\n",
    "trace1 = go.Scatter(\n",
    "    x = date_train,\n",
    "    y = close_train,\n",
    "    mode = 'point',\n",
    "    name = 'Data'\n",
    ")\n",
    "trace2 = go.Scatter(\n",
    "    x = date_test,\n",
    "    y = prediction,\n",
    "    mode = 'point',\n",
    "    name = 'Prediction'\n",
    ")\n",
    "trace3 = go.Scatter(\n",
    "    x = date_test,\n",
    "    y = close_test,\n",
    "    mode='point',\n",
    "    name = 'Ground Truth'\n",
    ")\n",
    "layout = go.Layout(\n",
    "    title = \"Google Stock\",\n",
    "    xaxis = {'title' : \"Date\"},\n",
    "    yaxis = {'title' : \"Close\"}\n",
    ")\n",
    "fig = go.Figure(data=[trace1, trace2, trace3], layout=layout)\n",
    "fig.show()"
   ]
  },
  {
   "cell_type": "markdown",
   "metadata": {},
   "source": [
    "# forecasting "
   ]
  },
  {
   "cell_type": "code",
   "execution_count": 29,
   "metadata": {},
   "outputs": [],
   "source": [
    "close_data = close_data.reshape((-1))\n",
    "\n",
    "def predict(num_prediction, model):\n",
    "    prediction_list = close_data[-look_back:]\n",
    "    \n",
    "    for _ in range(num_prediction):\n",
    "        x = prediction_list[-look_back:]\n",
    "        x = x.reshape((1, look_back, 1))\n",
    "        out = model.predict(x)[0][0]\n",
    "        prediction_list = np.append(prediction_list, out)\n",
    "    prediction_list = prediction_list[look_back-1:]\n",
    "        \n",
    "    return prediction_list\n",
    "    \n",
    "def predict_dates(num_prediction):\n",
    "    last_date = df['Date'].values[-1]\n",
    "    prediction_dates = pd.date_range(last_date, periods=num_prediction+1).tolist()\n",
    "    return prediction_dates\n",
    "\n",
    "num_prediction = 30\n",
    "forecast = predict(num_prediction, model)\n",
    "forecast_dates = predict_dates(num_prediction)"
   ]
  },
  {
   "cell_type": "code",
   "execution_count": 30,
   "metadata": {},
   "outputs": [
    {
     "data": {
      "text/plain": [
       "array([1.02449997e+08, 1.83275282e+00, 1.83275282e+00, 2.15739608e+00,\n",
       "       2.61654425e+00, 2.74076939e+00, 2.94746780e+00, 3.16584063e+00,\n",
       "       3.27036905e+00, 3.37908030e+00, 3.48298502e+00, 3.54716921e+00,\n",
       "       3.61163688e+00, 3.68225265e+00, 3.73058987e+00, 3.78552151e+00,\n",
       "       3.85354900e+00, 3.90244293e+00, 3.94744635e+00, 3.98816729e+00,\n",
       "       4.02400923e+00, 4.05531788e+00, 4.08133841e+00, 4.10239744e+00,\n",
       "       4.11934566e+00, 4.13287258e+00, 4.14361286e+00, 4.15242624e+00,\n",
       "       4.15949249e+00, 4.16548634e+00, 4.17027855e+00])"
      ]
     },
     "execution_count": 30,
     "metadata": {},
     "output_type": "execute_result"
    }
   ],
   "source": [
    "forecast"
   ]
  },
  {
   "cell_type": "code",
   "execution_count": 46,
   "metadata": {},
   "outputs": [],
   "source": [
    "real_stock_price2=dataset_test.loc[:, [\"Close\"]].values"
   ]
  },
  {
   "cell_type": "code",
   "execution_count": 47,
   "metadata": {},
   "outputs": [
    {
     "data": {
      "text/plain": [
       "array([[103269997],\n",
       "       [103260002],\n",
       "       [103589996],\n",
       "       [104599998],\n",
       "       [105070000],\n",
       "       [105699997],\n",
       "       [104739998],\n",
       "       [104370003],\n",
       "       [104639999],\n",
       "       [104830002],\n",
       "       [104250000],\n",
       "       [104800003],\n",
       "       [104459999],\n",
       "       [104480003],\n",
       "       [105209999],\n",
       "       [104669998],\n",
       "       [105230003],\n",
       "       [104639999],\n",
       "       [104610001],\n",
       "       [103889999],\n",
       "       [104129997],\n",
       "       [104480003]], dtype=int64)"
      ]
     },
     "execution_count": 47,
     "metadata": {},
     "output_type": "execute_result"
    }
   ],
   "source": [
    "real_stock_price2"
   ]
  },
  {
   "cell_type": "code",
   "execution_count": 48,
   "metadata": {},
   "outputs": [
    {
     "data": {
      "image/png": "[encoded data removed]",
      "text/plain": [
       "<Figure size 432x288 with 1 Axes>"
      ]
     },
     "metadata": {
      "needs_background": "light"
     },
     "output_type": "display_data"
    }
   ],
   "source": [
    "plt.plot(real_stock_price2)\n",
    "plt.plot(forecast)\n",
    "plt.show()"
   ]
  }
 ],
 "metadata": {
  "kernelspec": {
   "display_name": "Python 3",
   "language": "python",
   "name": "python3"
  },
  "language_info": {
   "codemirror_mode": {
    "name": "ipython",
    "version": 3
   },
   "file_extension": ".py",
   "mimetype": "text/x-python",
   "name": "python",
   "nbconvert_exporter": "python",
   "pygments_lexer": "ipython3",
   "version": "3.7.0"
  }
 },
 "nbformat": 4,
 "nbformat_minor": 2
}
